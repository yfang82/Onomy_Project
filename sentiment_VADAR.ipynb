{
 "cells": [
  {
   "cell_type": "code",
   "execution_count": 1,
   "id": "3a808681",
   "metadata": {},
   "outputs": [],
   "source": [
    "import nltk\n",
    "import pandas as pd\n",
    "import numpy as np\n",
    "import matplotlib.pyplot as plt\n"
   ]
  },
  {
   "cell_type": "code",
   "execution_count": 3,
   "id": "b9d65106",
   "metadata": {},
   "outputs": [
    {
     "name": "stdout",
     "output_type": "stream",
     "text": [
      "There are 16 duplicated values.\n"
     ]
    },
    {
     "data": {
      "text/plain": [
       "23243"
      ]
     },
     "execution_count": 3,
     "metadata": {},
     "output_type": "execute_result"
    }
   ],
   "source": [
    "df = pd.read_csv(\"./dataset/personalfinance2020-2021.csv\")\n",
    "df1=df[['selftext','num_comments','score','title']]\n",
    "df1=df1.dropna(subset=['selftext'])\n",
    "#drop meaningless text\n",
    "df1=df1[(df1.selftext!='[removed]') & (df1.selftext!='[deleted]')& (df1.selftext!='')& (df1.selftext!='[')]\n",
    "#drop duplicate\n",
    "duplicate = df1.duplicated()\n",
    "print('There are', duplicate.sum(), 'duplicated values.')\n",
    "df1=df1.drop_duplicates()\n",
    "len(df1)"
   ]
  },
  {
   "cell_type": "code",
   "execution_count": 4,
   "id": "bcddf4f4",
   "metadata": {},
   "outputs": [
    {
     "data": {
      "text/plain": [
       "'Hi guys, A couple of years ago I changed gears on careers, resulting in a salary + results based bonus. However, the bonuses are extremely inconsistent in both frequency and amount. I have a TFSA (roth IRA) that I contribute to regularly with my salary, but am unsure whether to commit a dollar amount or percentage of these bonuses to it. I debate chucking all of it into TFSA, but I also like to celebrate little victories in the moment when I can. Thank you!'"
      ]
     },
     "execution_count": 4,
     "metadata": {},
     "output_type": "execute_result"
    }
   ],
   "source": [
    "import re\n",
    "def remove_other(x):\n",
    "    x = re.sub(\"\\$\",\" \", x) #remove $\n",
    "    x = re.sub(\"https*\\S+\", \" \", x) #remove url\n",
    "    x = re.sub(\"\\n\",'', x)#remove newlines\n",
    "    x = re.sub(\"\\*\",'',x)\n",
    "    return x\n",
    "\n",
    "df1['selftext']=df1['selftext'].apply(lambda x: remove_other(x))\n",
    "df1['selftext'].iloc[0]"
   ]
  },
  {
   "cell_type": "code",
   "execution_count": 5,
   "id": "1e56949f",
   "metadata": {},
   "outputs": [
    {
     "data": {
      "text/plain": [
       "[{'neg': 0.027,\n",
       "  'neu': 0.713,\n",
       "  'pos': 0.26,\n",
       "  'compound': 0.9705,\n",
       "  'selftext': 'Hi guys, A couple of years ago I changed gears on careers, resulting in a salary + results based bonus. However, the bonuses are extremely inconsistent in both frequency and amount. I have a TFSA (roth IRA) that I contribute to regularly with my salary, but am unsure whether to commit a dollar amount or percentage of these bonuses to it. I debate chucking all of it into TFSA, but I also like to celebrate little victories in the moment when I can. Thank you!'},\n",
       " {'neg': 0.054,\n",
       "  'neu': 0.78,\n",
       "  'pos': 0.166,\n",
       "  'compound': 0.9782,\n",
       "  'selftext': 'I read that it doesn\\'t really hurt my credit score. I opened a checking account from one mega bank but their online service hasn\\'t been so great, it may just be because I\\'m still under 60 days. It was still frustrating to deal with them. So I thought of opening another one from a CU, I would like to use that as my main checking account combo\\'d with a savings account because I think they won\\'t charge much for a low income worker like myself. I also have another checking from another big mega bank but I\\'ve had that for a long time and the money could be better for an APY on said smaller CU bank. I also want to open an additional one, because I want to use it as a online \"storage\" type where I just put the money I earn online there and then transfer it to my main bank. By the time I\\'m done I think I\\'ll have a number of checking that it would feel scary. That\\'s why I\\'m thinking of just opening up a checking from an online based bank like chime... So... Here I am, asking. Is it normal for a person like myself to be undecided? I\\'m afraid I might open checking accounts I won\\'t need 2 or so months later, I\\'m sure I can close them right? But will it hurt me??'},\n",
       " {'neg': 0.0,\n",
       "  'neu': 0.893,\n",
       "  'pos': 0.107,\n",
       "  'compound': 0.5933,\n",
       "  'selftext': 'I just opened a Roth IRA and want to max out my contributions for 2020. I plan to allocate the full  6000 to a target date fund—at least until I can educate myself more on this matter. Is it wise to deposit the maximum amount all at once, or should I split my contributions evenly until the deadline?'}]"
      ]
     },
     "execution_count": 5,
     "metadata": {},
     "output_type": "execute_result"
    }
   ],
   "source": [
    "from nltk.sentiment.vader import SentimentIntensityAnalyzer as SIA\n",
    "\n",
    "#create a list of dictionaries\n",
    "sia = SIA()\n",
    "results = []\n",
    "\n",
    "for line in df1['selftext']:\n",
    "    pol_score = sia.polarity_scores(line)\n",
    "    pol_score['selftext'] = line\n",
    "    results.append(pol_score)\n",
    "\n",
    "results[:3]"
   ]
  },
  {
   "cell_type": "code",
   "execution_count": 46,
   "id": "ca64ac0f",
   "metadata": {},
   "outputs": [
    {
     "data": {
      "text/html": [
       "<div>\n",
       "<style scoped>\n",
       "    .dataframe tbody tr th:only-of-type {\n",
       "        vertical-align: middle;\n",
       "    }\n",
       "\n",
       "    .dataframe tbody tr th {\n",
       "        vertical-align: top;\n",
       "    }\n",
       "\n",
       "    .dataframe thead th {\n",
       "        text-align: right;\n",
       "    }\n",
       "</style>\n",
       "<table border=\"1\" class=\"dataframe\">\n",
       "  <thead>\n",
       "    <tr style=\"text-align: right;\">\n",
       "      <th></th>\n",
       "      <th>neg</th>\n",
       "      <th>neu</th>\n",
       "      <th>pos</th>\n",
       "      <th>compound</th>\n",
       "      <th>selftext</th>\n",
       "    </tr>\n",
       "  </thead>\n",
       "  <tbody>\n",
       "    <tr>\n",
       "      <th>0</th>\n",
       "      <td>0.027</td>\n",
       "      <td>0.713</td>\n",
       "      <td>0.260</td>\n",
       "      <td>0.9705</td>\n",
       "      <td>Hi guys, A couple of years ago I changed gears...</td>\n",
       "    </tr>\n",
       "    <tr>\n",
       "      <th>1</th>\n",
       "      <td>0.054</td>\n",
       "      <td>0.780</td>\n",
       "      <td>0.166</td>\n",
       "      <td>0.9782</td>\n",
       "      <td>I read that it doesn't really hurt my credit s...</td>\n",
       "    </tr>\n",
       "    <tr>\n",
       "      <th>2</th>\n",
       "      <td>0.000</td>\n",
       "      <td>0.893</td>\n",
       "      <td>0.107</td>\n",
       "      <td>0.5933</td>\n",
       "      <td>I just opened a Roth IRA and want to max out m...</td>\n",
       "    </tr>\n",
       "    <tr>\n",
       "      <th>3</th>\n",
       "      <td>0.000</td>\n",
       "      <td>0.980</td>\n",
       "      <td>0.020</td>\n",
       "      <td>0.0258</td>\n",
       "      <td>Hello, I have a quick question about how billi...</td>\n",
       "    </tr>\n",
       "    <tr>\n",
       "      <th>4</th>\n",
       "      <td>0.078</td>\n",
       "      <td>0.909</td>\n",
       "      <td>0.013</td>\n",
       "      <td>-0.7203</td>\n",
       "      <td>In 2020: I was employed Jan-Jul with a low ded...</td>\n",
       "    </tr>\n",
       "    <tr>\n",
       "      <th>...</th>\n",
       "      <td>...</td>\n",
       "      <td>...</td>\n",
       "      <td>...</td>\n",
       "      <td>...</td>\n",
       "      <td>...</td>\n",
       "    </tr>\n",
       "    <tr>\n",
       "      <th>23238</th>\n",
       "      <td>0.027</td>\n",
       "      <td>0.903</td>\n",
       "      <td>0.069</td>\n",
       "      <td>0.6212</td>\n",
       "      <td>After many years with Quicken, they have shift...</td>\n",
       "    </tr>\n",
       "    <tr>\n",
       "      <th>23239</th>\n",
       "      <td>0.085</td>\n",
       "      <td>0.878</td>\n",
       "      <td>0.037</td>\n",
       "      <td>-0.5411</td>\n",
       "      <td>Hello!I have an old 401K account that has a go...</td>\n",
       "    </tr>\n",
       "    <tr>\n",
       "      <th>23240</th>\n",
       "      <td>0.000</td>\n",
       "      <td>1.000</td>\n",
       "      <td>0.000</td>\n",
       "      <td>0.0000</td>\n",
       "      <td>I’ve been learning about Roth IRA’s and invest...</td>\n",
       "    </tr>\n",
       "    <tr>\n",
       "      <th>23241</th>\n",
       "      <td>0.034</td>\n",
       "      <td>0.852</td>\n",
       "      <td>0.114</td>\n",
       "      <td>0.9965</td>\n",
       "      <td>Long time reader here and first time home buye...</td>\n",
       "    </tr>\n",
       "    <tr>\n",
       "      <th>23242</th>\n",
       "      <td>0.040</td>\n",
       "      <td>0.868</td>\n",
       "      <td>0.092</td>\n",
       "      <td>0.7089</td>\n",
       "      <td>Currently in my 20s and I have LTD insurance v...</td>\n",
       "    </tr>\n",
       "  </tbody>\n",
       "</table>\n",
       "<p>23243 rows × 5 columns</p>\n",
       "</div>"
      ],
      "text/plain": [
       "         neg    neu    pos  compound  \\\n",
       "0      0.027  0.713  0.260    0.9705   \n",
       "1      0.054  0.780  0.166    0.9782   \n",
       "2      0.000  0.893  0.107    0.5933   \n",
       "3      0.000  0.980  0.020    0.0258   \n",
       "4      0.078  0.909  0.013   -0.7203   \n",
       "...      ...    ...    ...       ...   \n",
       "23238  0.027  0.903  0.069    0.6212   \n",
       "23239  0.085  0.878  0.037   -0.5411   \n",
       "23240  0.000  1.000  0.000    0.0000   \n",
       "23241  0.034  0.852  0.114    0.9965   \n",
       "23242  0.040  0.868  0.092    0.7089   \n",
       "\n",
       "                                                selftext  \n",
       "0      Hi guys, A couple of years ago I changed gears...  \n",
       "1      I read that it doesn't really hurt my credit s...  \n",
       "2      I just opened a Roth IRA and want to max out m...  \n",
       "3      Hello, I have a quick question about how billi...  \n",
       "4      In 2020: I was employed Jan-Jul with a low ded...  \n",
       "...                                                  ...  \n",
       "23238  After many years with Quicken, they have shift...  \n",
       "23239  Hello!I have an old 401K account that has a go...  \n",
       "23240  I’ve been learning about Roth IRA’s and invest...  \n",
       "23241  Long time reader here and first time home buye...  \n",
       "23242  Currently in my 20s and I have LTD insurance v...  \n",
       "\n",
       "[23243 rows x 5 columns]"
      ]
     },
     "execution_count": 46,
     "metadata": {},
     "output_type": "execute_result"
    }
   ],
   "source": [
    "sent = pd.DataFrame(results)\n",
    "sent\n"
   ]
  },
  {
   "cell_type": "code",
   "execution_count": 47,
   "id": "192831b4",
   "metadata": {},
   "outputs": [
    {
     "data": {
      "text/plain": [
       "0        0.326788\n",
       "1        0.143590\n",
       "2        0.119821\n",
       "3        0.020408\n",
       "4       -0.071507\n",
       "           ...   \n",
       "23238    0.046512\n",
       "23239   -0.054670\n",
       "23240    0.000000\n",
       "23241    0.093897\n",
       "23242    0.059908\n",
       "Name: total, Length: 23243, dtype: float64"
      ]
     },
     "execution_count": 47,
     "metadata": {},
     "output_type": "execute_result"
    }
   ],
   "source": [
    "sent['total']=(sent['pos']-sent['neg'])/sent['neu']\n",
    "sent['total']"
   ]
  },
  {
   "cell_type": "code",
   "execution_count": 77,
   "id": "691961dd",
   "metadata": {},
   "outputs": [
    {
     "data": {
      "text/plain": [
       "(array([1.000e+00, 0.000e+00, 2.000e+00, 0.000e+00, 1.000e+00, 0.000e+00,\n",
       "        1.000e+00, 2.000e+00, 3.000e+00, 2.000e+00, 6.000e+00, 6.000e+00,\n",
       "        1.300e+01, 1.300e+01, 2.200e+01, 3.500e+01, 6.700e+01, 1.550e+02,\n",
       "        2.540e+02, 5.530e+02, 1.008e+03, 1.993e+03, 3.349e+03, 3.956e+03,\n",
       "        3.679e+03, 2.960e+03, 1.889e+03, 1.166e+03, 7.040e+02, 4.690e+02,\n",
       "        3.260e+02, 1.780e+02, 1.240e+02, 7.100e+01, 7.300e+01, 3.800e+01,\n",
       "        2.400e+01, 1.600e+01, 1.600e+01, 1.000e+01, 7.000e+00, 4.000e+00,\n",
       "        9.000e+00, 0.000e+00, 0.000e+00, 0.000e+00, 1.000e+00, 1.000e+00,\n",
       "        1.000e+00, 6.000e+00]),\n",
       " array([-0.82149362, -0.78506375, -0.74863388, -0.71220401, -0.67577413,\n",
       "        -0.63934426, -0.60291439, -0.56648452, -0.53005464, -0.49362477,\n",
       "        -0.4571949 , -0.42076503, -0.38433515, -0.34790528, -0.31147541,\n",
       "        -0.27504554, -0.23861566, -0.20218579, -0.16575592, -0.12932605,\n",
       "        -0.09289617, -0.0564663 , -0.02003643,  0.01639344,  0.05282332,\n",
       "         0.08925319,  0.12568306,  0.16211293,  0.19854281,  0.23497268,\n",
       "         0.27140255,  0.30783242,  0.3442623 ,  0.38069217,  0.41712204,\n",
       "         0.45355191,  0.48998179,  0.52641166,  0.56284153,  0.5992714 ,\n",
       "         0.63570128,  0.67213115,  0.70856102,  0.74499089,  0.78142077,\n",
       "         0.81785064,  0.85428051,  0.89071038,  0.92714026,  0.96357013,\n",
       "         1.        ]),\n",
       " <BarContainer object of 50 artists>)"
      ]
     },
     "execution_count": 77,
     "metadata": {},
     "output_type": "execute_result"
    },
    {
     "data": {
      "image/png": "[encoded data removed]",
      "text/plain": [
       "<Figure size 432x288 with 1 Axes>"
      ]
     },
     "metadata": {
      "needs_background": "light"
     },
     "output_type": "display_data"
    }
   ],
   "source": [
    "plt.hist(sent['total'][(sent['total']<=1)&(sent['total']>=-1)],bins=50)"
   ]
  },
  {
   "cell_type": "code",
   "execution_count": 60,
   "id": "9658a952",
   "metadata": {},
   "outputs": [
    {
     "data": {
      "text/plain": [
       "(array([1.000e+00, 3.000e+00, 1.000e+00, 5.000e+00, 1.000e+01, 2.200e+01,\n",
       "        5.600e+01, 2.350e+02, 1.031e+03, 4.900e+03]),\n",
       " array([-0.82149362, -0.73934426, -0.6571949 , -0.57504554, -0.49289617,\n",
       "        -0.41074681, -0.32859745, -0.24644809, -0.16429872, -0.08214936,\n",
       "         0.        ]),\n",
       " <BarContainer object of 10 artists>)"
      ]
     },
     "execution_count": 60,
     "metadata": {},
     "output_type": "execute_result"
    },
    {
     "data": {
      "image/png": "[encoded data removed]",
      "text/plain": [
       "<Figure size 432x288 with 1 Axes>"
      ]
     },
     "metadata": {
      "needs_background": "light"
     },
     "output_type": "display_data"
    }
   ],
   "source": []
  },
  {
   "cell_type": "code",
   "execution_count": null,
   "id": "09de3a05",
   "metadata": {},
   "outputs": [],
   "source": []
  }
 ],
 "metadata": {
  "kernelspec": {
   "display_name": "Python 3",
   "language": "python",
   "name": "python3"
  },
  "language_info": {
   "codemirror_mode": {
    "name": "ipython",
    "version": 3
   },
   "file_extension": ".py",
   "mimetype": "text/x-python",
   "name": "python",
   "nbconvert_exporter": "python",
   "pygments_lexer": "ipython3",
   "version": "3.7.4"
  }
 },
 "nbformat": 4,
 "nbformat_minor": 5
}
