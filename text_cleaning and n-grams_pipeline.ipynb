{
 "cells": [
  {
   "cell_type": "code",
   "execution_count": 1,
   "id": "f9a7ee90",
   "metadata": {},
   "outputs": [
    {
     "name": "stdout",
     "output_type": "stream",
     "text": [
      "There are 3 duplicated values.\n"
     ]
    },
    {
     "data": {
      "text/plain": [
       "198"
      ]
     },
     "execution_count": 1,
     "metadata": {},
     "output_type": "execute_result"
    }
   ],
   "source": [
    "import pandas as pd\n",
    "import numpy as np\n",
    "\n",
    "df=pd.read_csv('./dataset/Adulting1012016-2021.csv')\n",
    "\n",
    "#Take interesting columns\n",
    "df1=df[['selftext','num_comments','score','title']]\n",
    "#drop those with text=NA\n",
    "df1=df1.dropna(subset=['selftext'])\n",
    "#drop meaningless text\n",
    "df1=df1[(df1.selftext!='[removed]') & (df1.selftext!='[deleted]')]\n",
    "#drop duplicate\n",
    "duplicate = df1.duplicated()\n",
    "print('There are', duplicate.sum(), 'duplicated values.')\n",
    "df1=df1.drop_duplicates()\n",
    "len(df1)"
   ]
  },
  {
   "cell_type": "code",
   "execution_count": 2,
   "id": "95882cd8",
   "metadata": {},
   "outputs": [],
   "source": [
    "#to lower-case"
   ]
  },
  {
   "cell_type": "code",
   "execution_count": 3,
   "id": "83427ce0",
   "metadata": {},
   "outputs": [
    {
     "data": {
      "text/plain": [
       "0      is it weird for an adult to wear a high school...\n",
       "2      you’re moving out. great! whether it’s from ho...\n",
       "3      hey!  you just moved into your first apartment...\n",
       "4      this is the first part of a series of posts i’...\n",
       "6      this is a place to learn all of the simple thi...\n",
       "                             ...                        \n",
       "279    hi all, i’m 19 and just scored my first time j...\n",
       "283    hi all so this is my first post here and i’m a...\n",
       "284    how does one go about getting their first apar...\n",
       "285    so just before the pandemic kicked into high g...\n",
       "286    i'm about to finish school and i still don't k...\n",
       "Name: selftext, Length: 198, dtype: object"
      ]
     },
     "execution_count": 3,
     "metadata": {},
     "output_type": "execute_result"
    }
   ],
   "source": [
    "df1['selftext']=df1['selftext'].str.lower()\n",
    "df1['selftext']"
   ]
  },
  {
   "cell_type": "code",
   "execution_count": 4,
   "id": "4d205a59",
   "metadata": {},
   "outputs": [],
   "source": [
    "def remove_emoji(text):\n",
    "    text = text.encode('ascii', 'ignore').decode()\n",
    "    return text"
   ]
  },
  {
   "cell_type": "code",
   "execution_count": 5,
   "id": "752d95e1",
   "metadata": {},
   "outputs": [
    {
     "data": {
      "text/plain": [
       "\"youre moving out. great! whether its from home or from the dorms into off campus housing there are few things you should know about renting an apartment or house. \\n\\n**basics**\\n\\n* the monthly cost to live not just the rental price. that is the baseline. the true cost is is rent + internet/cable + electricity + water + heat +...++ your monthly budget should account for all of these expenses. some properties include some or all utilities, others do not. factor that in when comparing rental costs. you can ask the utility what the average monthly bill at your address was in previous years when you sign up to get an idea of the cost.\\n\\n* most landlords insist that all tenants sign the same lease. this makes you and your friends/frenemies/randos you find through craigslist collectively responsible for the full rental amount. if your roommate cant pay on time you still owe the full amount. \\n\\n* you are all collectively responsible for damage to the property. the landlord is not a judge and doesnt care who broke the shelf in the kitchen. they only care about the broken shelf. you will have to reach an agreement with your roommates  ideally before anything happens  about how damage deposits will be handled in the event they are assessed. \\n\\n* read the lease. focus on the end of tenancy section. most leases require that you give notice 30 or more days before the end of the lease if you do not intend to continue renting. if you do not give this notice many leases anticipate switching over to month-to-month tenancy. the landlord will not assume that you plan to move out and you may end up paying for one or more extra months of occupancy because you did not follow the lease. \\n\\n* read the lease again. focus on the notice section. you will note that it does not list the landlords telephone number. this means that for the purposes of moving out, or disputing something, or otherwise complying formally with the terms of the lease you will be required to do what is described there  usually either first class mail or less frequently email. you may have a tradition of contacting the landlord via phone - but if the issue comes before a court of law you want proof that you complied with the notice section. \\n\\n* avoid if at all possible any arrangement that results in you paying rent in cash or by money order. neither of those generate records. if you have to pay by either of those methods insist on a written receipt each month and keep it. \\n\\n**roommates**\\n\\n* choose wisely. your bff from high school might or might not be a bad choice. was she always borrowing money from people? probably not a good sign. it's better to share a place with a responsible person who is no fun than a fun person who isn't responsible. \\n\\n* you are in this together. if you wouldn't trust them holding $5-10,000 of your money in their hands for a week - then it probably wouldn't be a good idea to rent with them - because that's the amount of power they have over you. \\n\\n* trust, but verify. if you give money to your roommate who then pays the landlord, ask for a copy of the check. many people get screwed over when they've been paying rent the whole time but it's been used to finance roomie's partying. if the option exists - always use personal checks to the landlord, that way you have proof in the form of bank records that the rent was paid.  \\n\\n\\n**moving in &amp; out**\\n\\n* make sure to do a walkthrough of the apartment with the landlord or their agent prior to occupancy. note all damage and wear. take photographs of everything and save copies somewhere other than your phone. this is not the time to be polite and not mention a scuff. keep a copy of the damage walkthrough, dont rely on the landlord to keep records. \\n\\n* dont plan to move out the last day of your lease. give yourself time to have a clean apartment. plan to do the walkthrough with all roommates present, and have your copy of the report from the day you moved in. \\n\\n* read the rules in your jurisdiction as they relate to return of damage deposits. be wary. do not let the landlord charge you for normal wear and tear. almost every city/state has laws requiring the money to be either returned or the reasons for retention explained within a certain period after you surrender occupancy. familiarize yourself with those laws. \\n\\n**evictions &amp; breaking leases**\\n\\n* you never want an eviction on your record. they follow you around like a scarlet letter. your next landlord will not care that you were evicted because your roommate was a dick who didnt pay his rent. dont get in that situation.\\n\\n* you cannot kick your roommate out. they cannot kick you out. only the landlord can evict you. this includes when your roommate is your spouse or girl/boyfriend. it doesn't matter that they slept with that slut gina. \\n\\n* do not get screwed by a roommate. this means make sure to get proof that the rent has been paid each and every month if they are remotely shady. if they stop paying, you could be evicted even though you are current. \\n\\n* if you can't pay rent try to negotiate a way out that doesn't result in an eviction. most landlords are reasonable. they're in it for the money, not the thrill of taking people to court. \\n\\n* if you need to break the lease - expect to pay. in certain cities like san francisco or seattle someone will be waiting to snap up your lease on a moment's notice. that isn't true everywhere. be prepared to make an offer to the landlord to let you out early\\n\\n**rent abatement**\\n\\n* you cannot choose to not pay rent if the landlord doesnt fix something as a way of spurring them to action. mostly. there are a few limited exceptions that are *specified in the laws of your state* - look them up. even then they require action within a limited period of time once the landlord is notified. remember notification means something different in leases than in real life. that often means you need to mail something to the landlord at the official address.\\n\\n* if it is something small, like ants  just put on your adult pants and go to the store and buy ant baits. dont waste the landlords time and (more importantly) their good will on small issues. same with lightbulbs and batteries for the smoke detectors. you cant withhold rent on these issues.  \\n\\n**utilities**\\n\\n* you will probably have to sign up for one or more utility services. make sure to terminate them on move out. this is doubly true if you move out but some of your roommates are staying on. everybody has a horror story of a friend that never changed the electric bill and had to spend time trying to collect from the next set of tenants who moved in. don't be the source of the next round of those stories - just be the person who laughs at them.\\n\\n* have a plan to budget and pay for these. some are billed monthly, others bi-monthly. keep a separate account at your bank if you have trouble keeping money in your main debit account. \\n\\n**sub-leases**\\n\\n* if you can avoid doing this, avoid it. \\n\\n* if you have to get a sublessee try to get the landlord to agree to have them take over your lease, rather than you acting as a jr. landlord. its worth $20-$50 per month remaining on the contract, at a minimum  so if there are six months remaining offer the landlord $300 cash to re-write the lease now. you get out with your security deposit and no headaches. \\n\\n* if your only option is to have a sublease then do a walk through with them, get the damage deposit from them, and in all other ways behave as if you are a landlord. you do not want to be on the hook for thousands of dollars because of damage they cause. protect yourself. \\n\\n* if you are going to be sub-leasing then treat the person you are leasing from as a landlord and follow the steps listed here. \\n\\n**pets**\\n\\n* if the building is no pets  then dont bring a pet. dont try to get a doctor to write you a prescription for an emotional service animal so you can get around it. don't be that guy. really you shouldn't even be friends with that guy. he's a dick.  \\n\\n* if your lease requires a pet deposit, pay it. if there is a requirement for extra rent each month for a pet, pay that too. dont try to scam your landlord. \\n\\n**renters insurance**\\n\\n* this is a 100% must have. \\n\\n* get as much as you can. it costs almost nothing. it will protect you in all kinds of situations. if you are robbed, water damage, someone injured, or any of dozens other possible eventualities it will help you. \\n\\n* you can probably get it through the same people that do your car insurance. \\n\\n**big picture**\\n\\n* your relationship with your landlord is important. they can be your best ally or your worst nightmare. but think of them like you think of the police. ideally you have no interaction - but when you do it's because they are providing you with a service not responding because you screwed up somehow. don't call them over stupid issues that you can handle. \\n\\n* it's not black mold. yeah, i know it's black and it's mold. it's not black mold, however. 99% of the time you can clean it with a sponge and some disinfectant. \\n\\nits kind of intimidating, but all of this is actually easy. good luck in your new place. \""
      ]
     },
     "execution_count": 5,
     "metadata": {},
     "output_type": "execute_result"
    }
   ],
   "source": [
    "df1['selftext']=df1['selftext'].apply(lambda x: remove_emoji(x))\n",
    "df1['selftext'].iloc[1]"
   ]
  },
  {
   "cell_type": "code",
   "execution_count": 6,
   "id": "7faec5b5",
   "metadata": {},
   "outputs": [],
   "source": [
    "import re\n",
    "def remove_other(x):\n",
    "    x = re.sub(\"\\$\",\" \", x) #remove $\n",
    "    x = re.sub(\"https*\\S+\", \" \", x) #remove url\n",
    "    x = re.sub(\"\\'\\w+\", '', x) #remove i'm,we're,let's after the '\n",
    "    x = re.sub(\"[0-9]+\", '', x) #remove numbers\n",
    "    x = re.sub(\"\\n\",'', x)#remove newlines\n",
    "    return x\n"
   ]
  },
  {
   "cell_type": "code",
   "execution_count": 7,
   "id": "73cc2d88",
   "metadata": {},
   "outputs": [
    {
     "data": {
      "text/plain": [
       "'youre moving out. great! whether its from home or from the dorms into off campus housing there are few things you should know about renting an apartment or house. **basics*** the monthly cost to live not just the rental price. that is the baseline. the true cost is is rent + internet/cable + electricity + water + heat +...++ your monthly budget should account for all of these expenses. some properties include some or all utilities, others do not. factor that in when comparing rental costs. you can ask the utility what the average monthly bill at your address was in previous years when you sign up to get an idea of the cost.* most landlords insist that all tenants sign the same lease. this makes you and your friends/frenemies/randos you find through craigslist collectively responsible for the full rental amount. if your roommate cant pay on time you still owe the full amount. * you are all collectively responsible for damage to the property. the landlord is not a judge and doesnt care who broke the shelf in the kitchen. they only care about the broken shelf. you will have to reach an agreement with your roommates  ideally before anything happens  about how damage deposits will be handled in the event they are assessed. * read the lease. focus on the end of tenancy section. most leases require that you give notice  or more days before the end of the lease if you do not intend to continue renting. if you do not give this notice many leases anticipate switching over to month-to-month tenancy. the landlord will not assume that you plan to move out and you may end up paying for one or more extra months of occupancy because you did not follow the lease. * read the lease again. focus on the notice section. you will note that it does not list the landlords telephone number. this means that for the purposes of moving out, or disputing something, or otherwise complying formally with the terms of the lease you will be required to do what is described there  usually either first class mail or less frequently email. you may have a tradition of contacting the landlord via phone - but if the issue comes before a court of law you want proof that you complied with the notice section. * avoid if at all possible any arrangement that results in you paying rent in cash or by money order. neither of those generate records. if you have to pay by either of those methods insist on a written receipt each month and keep it. **roommates*** choose wisely. your bff from high school might or might not be a bad choice. was she always borrowing money from people? probably not a good sign. it better to share a place with a responsible person who is no fun than a fun person who isn responsible. * you are in this together. if you wouldn trust them holding  -, of your money in their hands for a week - then it probably wouldn be a good idea to rent with them - because that the amount of power they have over you. * trust, but verify. if you give money to your roommate who then pays the landlord, ask for a copy of the check. many people get screwed over when they been paying rent the whole time but it been used to finance roomie partying. if the option exists - always use personal checks to the landlord, that way you have proof in the form of bank records that the rent was paid.  **moving in &amp; out*** make sure to do a walkthrough of the apartment with the landlord or their agent prior to occupancy. note all damage and wear. take photographs of everything and save copies somewhere other than your phone. this is not the time to be polite and not mention a scuff. keep a copy of the damage walkthrough, dont rely on the landlord to keep records. * dont plan to move out the last day of your lease. give yourself time to have a clean apartment. plan to do the walkthrough with all roommates present, and have your copy of the report from the day you moved in. * read the rules in your jurisdiction as they relate to return of damage deposits. be wary. do not let the landlord charge you for normal wear and tear. almost every city/state has laws requiring the money to be either returned or the reasons for retention explained within a certain period after you surrender occupancy. familiarize yourself with those laws. **evictions &amp; breaking leases*** you never want an eviction on your record. they follow you around like a scarlet letter. your next landlord will not care that you were evicted because your roommate was a dick who didnt pay his rent. dont get in that situation.* you cannot kick your roommate out. they cannot kick you out. only the landlord can evict you. this includes when your roommate is your spouse or girl/boyfriend. it doesn matter that they slept with that slut gina. * do not get screwed by a roommate. this means make sure to get proof that the rent has been paid each and every month if they are remotely shady. if they stop paying, you could be evicted even though you are current. * if you can pay rent try to negotiate a way out that doesn result in an eviction. most landlords are reasonable. they in it for the money, not the thrill of taking people to court. * if you need to break the lease - expect to pay. in certain cities like san francisco or seattle someone will be waiting to snap up your lease on a moment notice. that isn true everywhere. be prepared to make an offer to the landlord to let you out early**rent abatement*** you cannot choose to not pay rent if the landlord doesnt fix something as a way of spurring them to action. mostly. there are a few limited exceptions that are *specified in the laws of your state* - look them up. even then they require action within a limited period of time once the landlord is notified. remember notification means something different in leases than in real life. that often means you need to mail something to the landlord at the official address.* if it is something small, like ants  just put on your adult pants and go to the store and buy ant baits. dont waste the landlords time and (more importantly) their good will on small issues. same with lightbulbs and batteries for the smoke detectors. you cant withhold rent on these issues.  **utilities*** you will probably have to sign up for one or more utility services. make sure to terminate them on move out. this is doubly true if you move out but some of your roommates are staying on. everybody has a horror story of a friend that never changed the electric bill and had to spend time trying to collect from the next set of tenants who moved in. don be the source of the next round of those stories - just be the person who laughs at them.* have a plan to budget and pay for these. some are billed monthly, others bi-monthly. keep a separate account at your bank if you have trouble keeping money in your main debit account. **sub-leases*** if you can avoid doing this, avoid it. * if you have to get a sublessee try to get the landlord to agree to have them take over your lease, rather than you acting as a jr. landlord. its worth  -  per month remaining on the contract, at a minimum  so if there are six months remaining offer the landlord   cash to re-write the lease now. you get out with your security deposit and no headaches. * if your only option is to have a sublease then do a walk through with them, get the damage deposit from them, and in all other ways behave as if you are a landlord. you do not want to be on the hook for thousands of dollars because of damage they cause. protect yourself. * if you are going to be sub-leasing then treat the person you are leasing from as a landlord and follow the steps listed here. **pets*** if the building is no pets  then dont bring a pet. dont try to get a doctor to write you a prescription for an emotional service animal so you can get around it. don be that guy. really you shouldn even be friends with that guy. he a dick.  * if your lease requires a pet deposit, pay it. if there is a requirement for extra rent each month for a pet, pay that too. dont try to scam your landlord. **renters insurance*** this is a % must have. * get as much as you can. it costs almost nothing. it will protect you in all kinds of situations. if you are robbed, water damage, someone injured, or any of dozens other possible eventualities it will help you. * you can probably get it through the same people that do your car insurance. **big picture*** your relationship with your landlord is important. they can be your best ally or your worst nightmare. but think of them like you think of the police. ideally you have no interaction - but when you do it because they are providing you with a service not responding because you screwed up somehow. don call them over stupid issues that you can handle. * it not black mold. yeah, i know it black and it mold. it not black mold, however. % of the time you can clean it with a sponge and some disinfectant. its kind of intimidating, but all of this is actually easy. good luck in your new place. '"
      ]
     },
     "execution_count": 7,
     "metadata": {},
     "output_type": "execute_result"
    }
   ],
   "source": [
    "df1['selftext']=df1['selftext'].apply(lambda x: remove_other(x))\n",
    "df1['selftext'].iloc[1]"
   ]
  },
  {
   "cell_type": "code",
   "execution_count": 8,
   "id": "e0d5c3e2",
   "metadata": {},
   "outputs": [
    {
     "name": "stdout",
     "output_type": "stream",
     "text": [
      "{'d', 'did', 'same', 'his', 'll', 'o', 's', 'ourselves', \"mustn't\", 'm', 'once', 'because', 'doesn', 'at', \"hadn't\", 've', 'mustn', 'was', \"you're\", 'the', 'from', 'any', 'don', 'its', \"haven't\", 'under', 'so', 'shan', 'both', 'i', 'about', 'while', 'mightn', 'just', 'are', 'do', 'didn', 'if', 'below', 'ma', 'wasn', 'isn', 'himself', 'whom', 'theirs', 'will', \"shouldn't\", 'weren', 'had', 'out', 'hadn', 'that', 'above', 'other', 'after', \"doesn't\", 'needn', 'myself', 'you', 'until', 'she', 'should', 'itself', 'too', 'your', \"didn't\", 'why', 'against', 'is', 'it', 'how', 'own', \"you've\", 'down', 't', 'between', 'off', 'in', 'most', 'over', \"needn't\", 'this', 'can', 'there', 'shouldn', 'to', 'where', \"should've\", \"that'll\", 'no', 'during', 'y', \"isn't\", 'by', 'up', 'then', 'which', \"wasn't\", 'does', 'doing', 'wouldn', \"don't\", 'hers', 'themselves', 'am', 'all', 'before', 'won', \"couldn't\", 'who', 'than', 'we', 'through', 'him', 'few', 'into', 'our', \"mightn't\", 'yourself', 'an', 'as', \"weren't\", 'yourselves', 'her', 'with', \"you'd\", 'herself', 'now', 'yours', 'haven', 'those', 'for', 'be', 'them', 'of', \"wouldn't\", \"shan't\", 'he', 'their', 'what', \"you'll\", 're', 'having', 'these', 'not', 'a', 'such', 'on', 'ours', 'again', \"it's\", 'my', 'have', 'aren', 'nor', 'they', 'only', 'hasn', 'has', 'here', 'further', 'and', 'when', 'but', 'were', 'each', 'more', 'some', \"aren't\", 'couldn', \"she's\", \"hasn't\", 'or', 'me', 'ain', \"won't\", 'being', 'very', 'been'}\n"
     ]
    }
   ],
   "source": [
    "import nltk\n",
    "from nltk.corpus import stopwords\n",
    "#nltk.download(\"stopwords\") #uncomment it when run it for the first time\n",
    "stop_words = set(stopwords.words(\"english\"))\n",
    "print(stop_words) #all preloaded stopwords"
   ]
  },
  {
   "cell_type": "code",
   "execution_count": 9,
   "id": "0147fe53",
   "metadata": {},
   "outputs": [],
   "source": [
    "def remove_stopwords(text):\n",
    "    text = \" \".join([word for word in text.split() if word not in stop_words])\n",
    "    return text"
   ]
  },
  {
   "cell_type": "code",
   "execution_count": 10,
   "id": "2a6a3376",
   "metadata": {},
   "outputs": [
    {
     "data": {
      "text/plain": [
       "'youre moving out. great! whether home dorms campus housing things know renting apartment house. **basics*** monthly cost live rental price. baseline. true cost rent + internet/cable + electricity + water + heat +...++ monthly budget account expenses. properties include utilities, others not. factor comparing rental costs. ask utility average monthly bill address previous years sign get idea cost.* landlords insist tenants sign lease. makes friends/frenemies/randos find craigslist collectively responsible full rental amount. roommate cant pay time still owe full amount. * collectively responsible damage property. landlord judge doesnt care broke shelf kitchen. care broken shelf. reach agreement roommates ideally anything happens damage deposits handled event assessed. * read lease. focus end tenancy section. leases require give notice days end lease intend continue renting. give notice many leases anticipate switching month-to-month tenancy. landlord assume plan move may end paying one extra months occupancy follow lease. * read lease again. focus notice section. note list landlords telephone number. means purposes moving out, disputing something, otherwise complying formally terms lease required described usually either first class mail less frequently email. may tradition contacting landlord via phone - issue comes court law want proof complied notice section. * avoid possible arrangement results paying rent cash money order. neither generate records. pay either methods insist written receipt month keep it. **roommates*** choose wisely. bff high school might might bad choice. always borrowing money people? probably good sign. better share place responsible person fun fun person responsible. * together. trust holding -, money hands week - probably good idea rent - amount power you. * trust, verify. give money roommate pays landlord, ask copy check. many people get screwed paying rent whole time used finance roomie partying. option exists - always use personal checks landlord, way proof form bank records rent paid. **moving &amp; out*** make sure walkthrough apartment landlord agent prior occupancy. note damage wear. take photographs everything save copies somewhere phone. time polite mention scuff. keep copy damage walkthrough, dont rely landlord keep records. * dont plan move last day lease. give time clean apartment. plan walkthrough roommates present, copy report day moved in. * read rules jurisdiction relate return damage deposits. wary. let landlord charge normal wear tear. almost every city/state laws requiring money either returned reasons retention explained within certain period surrender occupancy. familiarize laws. **evictions &amp; breaking leases*** never want eviction record. follow around like scarlet letter. next landlord care evicted roommate dick didnt pay rent. dont get situation.* cannot kick roommate out. cannot kick out. landlord evict you. includes roommate spouse girl/boyfriend. matter slept slut gina. * get screwed roommate. means make sure get proof rent paid every month remotely shady. stop paying, could evicted even though current. * pay rent try negotiate way result eviction. landlords reasonable. money, thrill taking people court. * need break lease - expect pay. certain cities like san francisco seattle someone waiting snap lease moment notice. true everywhere. prepared make offer landlord let early**rent abatement*** cannot choose pay rent landlord doesnt fix something way spurring action. mostly. limited exceptions *specified laws state* - look up. even require action within limited period time landlord notified. remember notification means something different leases real life. often means need mail something landlord official address.* something small, like ants put adult pants go store buy ant baits. dont waste landlords time (more importantly) good small issues. lightbulbs batteries smoke detectors. cant withhold rent issues. **utilities*** probably sign one utility services. make sure terminate move out. doubly true move roommates staying on. everybody horror story friend never changed electric bill spend time trying collect next set tenants moved in. source next round stories - person laughs them.* plan budget pay these. billed monthly, others bi-monthly. keep separate account bank trouble keeping money main debit account. **sub-leases*** avoid this, avoid it. * get sublessee try get landlord agree take lease, rather acting jr. landlord. worth - per month remaining contract, minimum six months remaining offer landlord cash re-write lease now. get security deposit headaches. * option sublease walk them, get damage deposit them, ways behave landlord. want hook thousands dollars damage cause. protect yourself. * going sub-leasing treat person leasing landlord follow steps listed here. **pets*** building pets dont bring pet. dont try get doctor write prescription emotional service animal get around it. guy. really even friends guy. dick. * lease requires pet deposit, pay it. requirement extra rent month pet, pay too. dont try scam landlord. **renters insurance*** % must have. * get much can. costs almost nothing. protect kinds situations. robbed, water damage, someone injured, dozens possible eventualities help you. * probably get people car insurance. **big picture*** relationship landlord important. best ally worst nightmare. think like think police. ideally interaction - providing service responding screwed somehow. call stupid issues handle. * black mold. yeah, know black mold. black mold, however. % time clean sponge disinfectant. kind intimidating, actually easy. good luck new place.'"
      ]
     },
     "execution_count": 10,
     "metadata": {},
     "output_type": "execute_result"
    }
   ],
   "source": [
    "df1['selftext']=df1['selftext'].apply(lambda x: remove_stopwords(x))\n",
    "df1['selftext'].iloc[1]"
   ]
  },
  {
   "cell_type": "code",
   "execution_count": 11,
   "id": "5bc720b0",
   "metadata": {},
   "outputs": [
    {
     "name": "stderr",
     "output_type": "stream",
     "text": [
      "/Library/Frameworks/Python.framework/Versions/3.7/lib/python3.7/site-packages/ipykernel_launcher.py:6: FutureWarning: The default value of regex will change from True to False in a future version. In addition, single character regular expressions will*not* be treated as literal strings when regex=True.\n",
      "  \n"
     ]
    },
    {
     "data": {
      "text/plain": [
       "'youre moving out great whether home dorms campus housing things know renting apartment house basics monthly cost live rental price baseline true cost rent internet cable electricity water heat monthly budget account expenses properties include utilities others not factor comparing rental costs ask utility average monthly bill address previous years sign get idea cost landlords insist tenants sign lease makes friends frenemies randos find craigslist collectively responsible full rental amount roommate cant pay time still owe full amount collectively responsible damage property landlord judge doesnt care broke shelf kitchen care broken shelf reach agreement roommates ideally anything happens damage deposits handled event assessed read lease focus end tenancy section leases require give notice days end lease intend continue renting give notice many leases anticipate switching month to month tenancy landlord assume plan move may end paying one extra months occupancy follow lease read lease again focus notice section note list landlords telephone number means purposes moving out disputing something otherwise complying formally terms lease required described usually either first class mail less frequently email may tradition contacting landlord via phone issue comes court law want proof complied notice section avoid possible arrangement results paying rent cash money order neither generate records pay either methods insist written receipt month keep it roommates choose wisely bff high school might might bad choice always borrowing money people probably good sign better share place responsible person fun fun person responsible together trust holding money hands week probably good idea rent amount power you trust verify give money roommate pays landlord ask copy check many people get screwed paying rent whole time used finance roomie partying option exists always use personal checks landlord way proof form bank records rent paid moving amp out make sure walkthrough apartment landlord agent prior occupancy note damage wear take photographs everything save copies somewhere phone time polite mention scuff keep copy damage walkthrough dont rely landlord keep records dont plan move last day lease give time clean apartment plan walkthrough roommates present copy report day moved in read rules jurisdiction relate return damage deposits wary let landlord charge normal wear tear almost every city state laws requiring money either returned reasons retention explained within certain period surrender occupancy familiarize laws evictions amp breaking leases never want eviction record follow around like scarlet letter next landlord care evicted roommate dick didnt pay rent dont get situation cannot kick roommate out cannot kick out landlord evict you includes roommate spouse girl boyfriend matter slept slut gina get screwed roommate means make sure get proof rent paid every month remotely shady stop paying could evicted even though current pay rent try negotiate way result eviction landlords reasonable money thrill taking people court need break lease expect pay certain cities like san francisco seattle someone waiting snap lease moment notice true everywhere prepared make offer landlord let early rent abatement cannot choose pay rent landlord doesnt fix something way spurring action mostly limited exceptions specified laws state look up even require action within limited period time landlord notified remember notification means something different leases real life often means need mail something landlord official address something small like ants put adult pants go store buy ant baits dont waste landlords time more importantly good small issues lightbulbs batteries smoke detectors cant withhold rent issues utilities probably sign one utility services make sure terminate move out doubly true move roommates staying on everybody horror story friend never changed electric bill spend time trying collect next set tenants moved in source next round stories person laughs them plan budget pay these billed monthly others bi monthly keep separate account bank trouble keeping money main debit account sub leases avoid this avoid it get sublessee try get landlord agree take lease rather acting jr landlord worth per month remaining contract minimum six months remaining offer landlord cash re write lease now get security deposit headaches option sublease walk them get damage deposit them ways behave landlord want hook thousands dollars damage cause protect yourself going sub leasing treat person leasing landlord follow steps listed here pets building pets dont bring pet dont try get doctor write prescription emotional service animal get around it guy really even friends guy dick lease requires pet deposit pay it requirement extra rent month pet pay too dont try scam landlord renters insurance must have get much can costs almost nothing protect kinds situations robbed water damage someone injured dozens possible eventualities help you probably get people car insurance big picture relationship landlord important best ally worst nightmare think like think police ideally interaction providing service responding screwed somehow call stupid issues handle black mold yeah know black mold black mold however time clean sponge disinfectant kind intimidating actually easy good luck new place'"
      ]
     },
     "execution_count": 11,
     "metadata": {},
     "output_type": "execute_result"
    }
   ],
   "source": [
    "spec_chars = [\"!\",'“','\"',\"#\",\"%\",\"&\",\"'\",\"(\",\")\",\n",
    "              \"*\",\"+\",\",\",\"-\",\".\",\"/\",\":\",\";\",\"<\",\n",
    "              \"=\",\">\",\"?\",\"@\",\"[\",\"\\\\\",\"]\",\"^\",\"_\",\n",
    "              \"`\",\"{\",\"|\",\"}\",\"~\",\"–\"]\n",
    "for char in spec_chars:\n",
    "    df1['selftext'] = df1['selftext'].str.replace(char, ' ')\n",
    "    df1['selftext'] = df1['selftext'].str.split().str.join(\" \")\n",
    "df1['selftext'].iloc[1]"
   ]
  },
  {
   "cell_type": "code",
   "execution_count": 12,
   "id": "22406b3a",
   "metadata": {},
   "outputs": [],
   "source": [
    "import nltk\n",
    "import ssl\n",
    "\n",
    "try:\n",
    "    _create_unverified_https_context = ssl._create_unverified_context\n",
    "except AttributeError:\n",
    "    pass\n",
    "else:\n",
    "    ssl._create_default_https_context = _create_unverified_https_context\n"
   ]
  },
  {
   "cell_type": "code",
   "execution_count": 13,
   "id": "e0a6e1a8",
   "metadata": {},
   "outputs": [
    {
     "name": "stdout",
     "output_type": "stream",
     "text": [
      "first ---> first\n",
      "part ---> part\n",
      "series ---> series\n",
      "posts ---> post\n",
      "im ---> im\n",
      "going ---> going\n",
      "make ---> make\n",
      "renting ---> renting\n",
      "first ---> first\n",
      "place ---> place\n",
      "eventually ---> eventually\n",
      "ill ---> ill\n",
      "cover ---> cover\n",
      "bunch ---> bunch\n",
      "topics ---> topic\n",
      "renting ---> renting\n",
      "post ---> post\n",
      "particular ---> particular\n",
      "talks ---> talk\n",
      "before ---> before\n",
      "start ---> start\n",
      "looking ---> looking\n",
      "first ---> first\n",
      "place ---> place\n",
      "own ---> own\n",
      "what ---> what\n",
      "look ---> look\n",
      "renting ---> renting\n",
      "first ---> first\n",
      "place ---> place\n",
      "many ---> many\n",
      "things ---> thing\n",
      "often ---> often\n",
      "get ---> get\n",
      "overlooked ---> overlooked\n",
      "youre ---> youre\n",
      "first ---> first\n",
      "moving ---> moving\n",
      "own ---> own\n",
      "everyone ---> everyone\n",
      "knows ---> know\n",
      "need ---> need\n",
      "plan ---> plan\n",
      "rent ---> rent\n",
      "dont ---> dont\n",
      "know ---> know\n",
      "much ---> much\n",
      "spending ---> spending\n",
      "much ---> much\n",
      "save ---> save\n",
      "things ---> thing\n",
      "post ---> post\n",
      "mostly ---> mostly\n",
      "based ---> based\n",
      "experience ---> experience\n",
      "hopefully ---> hopefully\n",
      "help ---> help\n",
      "figure ---> figure\n",
      "things ---> thing\n",
      "out ---> out\n",
      "how ---> how\n",
      "much ---> much\n",
      "money ---> money\n",
      "make ---> make\n",
      "the ---> the\n",
      "first ---> first\n",
      "thing ---> thing\n",
      "even ---> even\n",
      "deciding ---> deciding\n",
      "whether ---> whether\n",
      "youre ---> youre\n",
      "going ---> going\n",
      "live ---> live\n",
      "alone ---> alone\n",
      "roommate ---> roommate\n",
      "make ---> make\n",
      "sure ---> sure\n",
      "know ---> know\n",
      "much ---> much\n",
      "money ---> money\n",
      "actually ---> actually\n",
      "make ---> make\n",
      "lot ---> lot\n",
      "people ---> people\n",
      "dont ---> dont\n",
      "pay ---> pay\n",
      "enough ---> enough\n",
      "attention ---> attention\n",
      "this ---> this\n",
      "end ---> end\n",
      "renting ---> renting\n",
      "apartment ---> apartment\n",
      "afford ---> afford\n",
      "knowing ---> knowing\n",
      "much ---> much\n",
      "make ---> make\n",
      "per ---> per\n",
      "hour ---> hour\n",
      "want ---> want\n",
      "know ---> know\n",
      "much ---> much\n",
      "make ---> make\n",
      "month ---> month\n",
      "take ---> take\n",
      "look ---> look\n",
      "last ---> last\n",
      "months ---> month\n",
      "worth ---> worth\n",
      "paystubs ---> paystubs\n",
      "see ---> see\n",
      "much ---> much\n",
      "made ---> made\n",
      "taxes ---> tax\n",
      "insurance ---> insurance\n",
      "etc ---> etc\n",
      "this ---> this\n",
      "number ---> number\n",
      "isnt ---> isnt\n",
      "much ---> much\n",
      "afford ---> afford\n",
      "spend ---> spend\n",
      "rent ---> rent\n",
      "realistically ---> realistically\n",
      "want ---> want\n",
      "spend ---> spend\n",
      "number ---> number\n",
      "rent ---> rent\n",
      "youre ---> youre\n",
      "making ---> making\n",
      "month ---> month\n",
      "want ---> want\n",
      "find ---> find\n",
      "somewhere ---> somewhere\n",
      "rent ---> rent\n",
      "thats ---> thats\n",
      "month ---> month\n",
      "may ---> may\n",
      "fudging ---> fudging\n",
      "depending ---> depending\n",
      "live ---> live\n",
      "advice ---> advice\n",
      "shoot ---> shoot\n",
      "can ---> can\n",
      "first ---> first\n",
      "place ---> place\n",
      "doesnt ---> doesnt\n",
      "need ---> need\n",
      "best ---> best\n",
      "place ---> place\n",
      "youve ---> youve\n",
      "ever ---> ever\n",
      "seen ---> seen\n",
      "how ---> how\n",
      "much ---> much\n",
      "places ---> place\n",
      "area ---> area\n",
      "cost ---> cost\n",
      "rent ---> rent\n",
      "now ---> now\n",
      "know ---> know\n",
      "much ---> much\n",
      "spend ---> spend\n",
      "rent ---> rent\n",
      "start ---> start\n",
      "looking ---> looking\n",
      "places ---> place\n",
      "generally ---> generally\n",
      "go ---> go\n",
      "area ---> area\n",
      "keep ---> keep\n",
      "mind ---> mind\n",
      "youre ---> youre\n",
      "actually ---> actually\n",
      "apartment ---> apartment\n",
      "shopping ---> shopping\n",
      "yet ---> yet\n",
      "youre ---> youre\n",
      "getting ---> getting\n",
      "idea ---> idea\n",
      "local ---> local\n",
      "market ---> market\n",
      "like ---> like\n",
      "look ---> look\n",
      "craigslist ---> craigslist\n",
      "look ---> look\n",
      "classifieds ---> classified\n",
      "local ---> local\n",
      "newspaper ---> newspaper\n",
      "find ---> find\n",
      "source ---> source\n",
      "rental ---> rental\n",
      "listings ---> listing\n",
      "check ---> check\n",
      "nice ---> nice\n",
      "neighborhoods ---> neighborhood\n",
      "check ---> check\n",
      "bad ---> bad\n",
      "neighborhoods ---> neighborhood\n",
      "look ---> look\n",
      "one ---> one\n",
      "bedrooms ---> bedroom\n",
      "two ---> two\n",
      "bedrooms ---> bedroom\n",
      "houses ---> house\n",
      "apartments ---> apartment\n",
      "basically ---> basically\n",
      "check ---> check\n",
      "everything ---> everything\n",
      "good ---> good\n",
      "idea ---> idea\n",
      "going ---> going\n",
      "rate ---> rate\n",
      "going ---> going\n",
      "be ---> be\n",
      "once ---> once\n",
      "youve ---> youve\n",
      "got ---> got\n",
      "mind ---> mind\n",
      "take ---> take\n",
      "look ---> look\n",
      "budget ---> budget\n",
      "again ---> again\n",
      "find ---> find\n",
      "one ---> one\n",
      "bedroom ---> bedroom\n",
      "places ---> place\n",
      "around ---> around\n",
      "goal ---> goal\n",
      "no ---> no\n",
      "didnt ---> didnt\n",
      "find ---> find\n",
      "anything ---> anything\n",
      "mark ---> mark\n",
      "youre ---> youre\n",
      "going ---> going\n",
      "consider ---> consider\n",
      "roommates ---> roommate\n",
      "looking ---> looking\n",
      "different ---> different\n",
      "area ---> area\n",
      "how ---> how\n",
      "much ---> much\n",
      "savings ---> saving\n",
      "checking ---> checking\n",
      "when ---> when\n",
      "actually ---> actually\n",
      "go ---> go\n",
      "sign ---> sign\n",
      "lease ---> lease\n",
      "youre ---> youre\n",
      "going ---> going\n",
      "need ---> need\n",
      "monthly ---> monthly\n",
      "rent ---> rent\n",
      "available ---> available\n",
      "give ---> give\n",
      "landlord ---> landlord\n",
      "start ---> start\n",
      "actually ---> actually\n",
      "looking ---> looking\n",
      "places ---> place\n",
      "want ---> want\n",
      "make ---> make\n",
      "sure ---> sure\n",
      "enough ---> enough\n",
      "cushion ---> cushion\n",
      "get ---> get\n",
      "new ---> new\n",
      "place ---> place\n",
      "its ---> it\n",
      "uncommon ---> uncommon\n",
      "landlord ---> landlord\n",
      "require ---> require\n",
      "first ---> first\n",
      "amp ---> amp\n",
      "last ---> last\n",
      "months ---> month\n",
      "rent ---> rent\n",
      "plus ---> plus\n",
      "deposit ---> deposit\n",
      "move ---> move\n",
      "in ---> in\n",
      "ive ---> ive\n",
      "rented ---> rented\n",
      "ive ---> ive\n",
      "also ---> also\n",
      "first ---> first\n",
      "month ---> month\n",
      "plus ---> plus\n",
      "deposit ---> deposit\n",
      "deposit ---> deposit\n",
      "often ---> often\n",
      "amount ---> amount\n",
      "monthly ---> monthly\n",
      "rent ---> rent\n",
      "less ---> le\n",
      "depending ---> depending\n",
      "number ---> number\n",
      "factors ---> factor\n",
      "youre ---> youre\n",
      "going ---> going\n",
      "planning ---> planning\n",
      "preparation ---> preparation\n",
      "phase ---> phase\n",
      "youre ---> youre\n",
      "looking ---> looking\n",
      "rent ---> rent\n",
      "month ---> month\n",
      "plan ---> plan\n",
      "able ---> able\n",
      "move ---> move\n",
      "in ---> in\n",
      "excess ---> excess\n",
      "expenses ---> expense\n",
      "youre ---> youre\n",
      "going ---> going\n",
      "food ---> food\n",
      "utilities ---> utility\n",
      "etc ---> etc\n",
      "dont ---> dont\n",
      "expect ---> expect\n",
      "build ---> build\n",
      "checking ---> checking\n",
      "account ---> account\n",
      "spend ---> spend\n",
      "moving ---> moving\n",
      "in ---> in\n",
      "leaving ---> leaving\n",
      "nothing ---> nothing\n",
      "while ---> while\n",
      "youre ---> youre\n",
      "building ---> building\n",
      "move ---> move\n",
      "amount ---> amount\n",
      "figure ---> figure\n",
      "companies ---> company\n",
      "provide ---> provide\n",
      "power ---> power\n",
      "gas ---> gas\n",
      "internet ---> internet\n",
      "area ---> area\n",
      "many ---> many\n",
      "times ---> time\n",
      "youre ---> youre\n",
      "renting ---> renting\n",
      "included ---> included\n",
      "rent ---> rent\n",
      "want ---> want\n",
      "prepared ---> prepared\n",
      "case ---> case\n",
      "arent ---> arent\n",
      "take ---> take\n",
      "look ---> look\n",
      "websites ---> website\n",
      "see ---> see\n",
      "charge ---> charge\n",
      "deposit ---> deposit\n",
      "start ---> start\n",
      "service ---> service\n",
      "website ---> website\n",
      "give ---> give\n",
      "quick ---> quick\n",
      "call ---> call\n",
      "ask ---> ask\n",
      "also ---> also\n",
      "see ---> see\n",
      "gas ---> gas\n",
      "power ---> power\n",
      "websites ---> website\n",
      "calculator ---> calculator\n",
      "estimate ---> estimate\n",
      "monthly ---> monthly\n",
      "costs ---> cost\n",
      "figure ---> figure\n",
      "budget ---> budget\n",
      "dont ---> dont\n",
      "forget ---> forget\n",
      "factor ---> factor\n",
      "things ---> thing\n",
      "there ---> there\n",
      "still ---> still\n",
      "things ---> thing\n",
      "youre ---> youre\n",
      "going ---> going\n",
      "need ---> need\n",
      "toilet ---> toilet\n",
      "paper ---> paper\n",
      "food ---> food\n",
      "linens ---> linen\n",
      "etc ---> etc\n",
      "going ---> going\n",
      "pretty ---> pretty\n",
      "individualized ---> individualized\n",
      "personally ---> personally\n",
      "use ---> use\n",
      "hard ---> hard\n",
      "set ---> set\n",
      "guideline ---> guideline\n",
      "much ---> much\n",
      "factor ---> factor\n",
      "budget ---> budget\n",
      "a ---> a\n",
      "good ---> good\n",
      "starting ---> starting\n",
      "place ---> place\n",
      "week ---> week\n",
      "person ---> person\n",
      "like ---> like\n",
      "things ---> thing\n",
      "could ---> could\n",
      "change ---> change\n",
      "based ---> based\n",
      "local ---> local\n",
      "prices ---> price\n",
      "first ---> first\n",
      "shopping ---> shopping\n",
      "trip ---> trip\n",
      "move ---> move\n",
      "going ---> going\n",
      "more ---> more\n",
      "though ---> though\n",
      "youre ---> youre\n",
      "going ---> going\n",
      "buying ---> buying\n",
      "things ---> thing\n",
      "like ---> like\n",
      "trash ---> trash\n",
      "cans ---> can\n",
      "cleaning ---> cleaning\n",
      "supplies ---> supply\n",
      "im ---> im\n",
      "going ---> going\n",
      "recommend ---> recommend\n",
      "half ---> half\n",
      "monthly ---> monthly\n",
      "rent ---> rent\n",
      "budgeted ---> budgeted\n",
      "first ---> first\n",
      "shopping ---> shopping\n",
      "trip ---> trip\n",
      "doesnt ---> doesnt\n",
      "include ---> include\n",
      "things ---> thing\n",
      "like ---> like\n",
      "furniture ---> furniture\n",
      "ill ---> ill\n",
      "get ---> get\n",
      "next ---> next\n",
      "part ---> part\n",
      "series ---> series\n",
      "food ---> food\n",
      "utensils ---> utensil\n",
      "cleaning ---> cleaning\n",
      "supplies ---> supply\n",
      "toilet ---> toilet\n",
      "paper ---> paper\n",
      "trash ---> trash\n",
      "cans ---> can\n",
      "towels ---> towel\n",
      "etc ---> etc\n",
      "seriously ---> seriously\n",
      "dont ---> dont\n",
      "forget ---> forget\n",
      "toilet ---> toilet\n",
      "paper ---> paper\n",
      "whatever ---> whatever\n",
      "dont ---> dont\n",
      "spend ---> spend\n",
      "trip ---> trip\n",
      "either ---> either\n",
      "put ---> put\n",
      "savings ---> saving\n",
      "used ---> used\n",
      "get ---> get\n",
      "fun ---> fun\n",
      "stuff ---> stuff\n",
      "celebrate ---> celebrate\n",
      "first ---> first\n",
      "place ---> place\n",
      "start ---> start\n",
      "looking ---> looking\n",
      "actual ---> actual\n",
      "place ---> place\n",
      "by ---> by\n",
      "point ---> point\n",
      "know ---> know\n",
      "much ---> much\n",
      "make ---> make\n",
      "much ---> much\n",
      "youre ---> youre\n",
      "going ---> going\n",
      "save ---> save\n",
      "up ---> up\n",
      "whether ---> whether\n",
      "youre ---> youre\n",
      "going ---> going\n",
      "roommate ---> roommate\n",
      "general ---> general\n",
      "idea ---> idea\n",
      "areas ---> area\n",
      "youre ---> youre\n",
      "going ---> going\n",
      "look ---> look\n",
      "place ---> place\n",
      "in ---> in\n",
      "comes ---> come\n",
      "fun ---> fun\n",
      "part ---> part\n",
      "actually ---> actually\n",
      "go ---> go\n",
      "look ---> look\n",
      "places ---> place\n",
      "but ---> but\n",
      "thats ---> thats\n",
      "going ---> going\n",
      "next ---> next\n",
      "part ---> part\n",
      "series ---> series\n",
      "stay ---> stay\n",
      "tuned ---> tuned\n"
     ]
    }
   ],
   "source": [
    "import nltk\n",
    "#nltk.download('wordnet') #uncommented for 1st time running\n",
    "from nltk.stem import WordNetLemmatizer\n",
    "\n",
    "words=df1['selftext'][4].split()\n",
    "lemmatizer = WordNetLemmatizer()\n",
    "for word in words:\n",
    "    print(word + \" ---> \" + lemmatizer.lemmatize(word))"
   ]
  },
  {
   "cell_type": "code",
   "execution_count": 14,
   "id": "28325cea",
   "metadata": {},
   "outputs": [],
   "source": [
    "def lemmatize(words):\n",
    "    lemmatizer = WordNetLemmatizer()\n",
    "    nwords=[]\n",
    "    for word in words:\n",
    "        word=lemmatizer.lemmatize(word)\n",
    "        nwords.append(word)\n",
    "    return ' '.join(nwords)"
   ]
  },
  {
   "cell_type": "code",
   "execution_count": 20,
   "id": "388c6120",
   "metadata": {},
   "outputs": [],
   "source": [
    "df1['selftext']= df1['selftext'].str.split().apply(lambda x: lemmatize(x))\n",
    "df1['selftext'].iloc[1]\n",
    "df1.to_csv('./adulting101_clean.csv')"
   ]
  },
  {
   "cell_type": "code",
   "execution_count": 16,
   "id": "813d411c",
   "metadata": {},
   "outputs": [],
   "source": [
    "from sklearn.feature_extraction.text import CountVectorizer"
   ]
  },
  {
   "cell_type": "code",
   "execution_count": 17,
   "id": "758c326d",
   "metadata": {},
   "outputs": [
    {
     "data": {
      "text/html": [
       "<div>\n",
       "<style scoped>\n",
       "    .dataframe tbody tr th:only-of-type {\n",
       "        vertical-align: middle;\n",
       "    }\n",
       "\n",
       "    .dataframe tbody tr th {\n",
       "        vertical-align: top;\n",
       "    }\n",
       "\n",
       "    .dataframe thead th {\n",
       "        text-align: right;\n",
       "    }\n",
       "</style>\n",
       "<table border=\"1\" class=\"dataframe\">\n",
       "  <thead>\n",
       "    <tr style=\"text-align: right;\">\n",
       "      <th></th>\n",
       "      <th>selftext</th>\n",
       "      <th>num_comments</th>\n",
       "      <th>score</th>\n",
       "      <th>title</th>\n",
       "      <th>aaa</th>\n",
       "      <th>abatement</th>\n",
       "      <th>abby</th>\n",
       "      <th>ability</th>\n",
       "      <th>able</th>\n",
       "      <th>about</th>\n",
       "      <th>...</th>\n",
       "      <th>younger</th>\n",
       "      <th>youngins</th>\n",
       "      <th>your</th>\n",
       "      <th>youre</th>\n",
       "      <th>yourself</th>\n",
       "      <th>youtube</th>\n",
       "      <th>youve</th>\n",
       "      <th>yr</th>\n",
       "      <th>zero</th>\n",
       "      <th>zone</th>\n",
       "    </tr>\n",
       "  </thead>\n",
       "  <tbody>\n",
       "    <tr>\n",
       "      <th>0</th>\n",
       "      <td>weird adult wear high school championship ring</td>\n",
       "      <td>2.0</td>\n",
       "      <td>1.0</td>\n",
       "      <td>state championship ring</td>\n",
       "      <td>0.0</td>\n",
       "      <td>0.0</td>\n",
       "      <td>0.0</td>\n",
       "      <td>0.0</td>\n",
       "      <td>0.0</td>\n",
       "      <td>0.0</td>\n",
       "      <td>...</td>\n",
       "      <td>0.0</td>\n",
       "      <td>0.0</td>\n",
       "      <td>0.0</td>\n",
       "      <td>0.0</td>\n",
       "      <td>0.0</td>\n",
       "      <td>0.0</td>\n",
       "      <td>0.0</td>\n",
       "      <td>0.0</td>\n",
       "      <td>0.0</td>\n",
       "      <td>0.0</td>\n",
       "    </tr>\n",
       "    <tr>\n",
       "      <th>1</th>\n",
       "      <td>NaN</td>\n",
       "      <td>NaN</td>\n",
       "      <td>NaN</td>\n",
       "      <td>NaN</td>\n",
       "      <td>0.0</td>\n",
       "      <td>1.0</td>\n",
       "      <td>0.0</td>\n",
       "      <td>0.0</td>\n",
       "      <td>0.0</td>\n",
       "      <td>0.0</td>\n",
       "      <td>...</td>\n",
       "      <td>0.0</td>\n",
       "      <td>0.0</td>\n",
       "      <td>0.0</td>\n",
       "      <td>1.0</td>\n",
       "      <td>1.0</td>\n",
       "      <td>0.0</td>\n",
       "      <td>0.0</td>\n",
       "      <td>0.0</td>\n",
       "      <td>0.0</td>\n",
       "      <td>0.0</td>\n",
       "    </tr>\n",
       "    <tr>\n",
       "      <th>2</th>\n",
       "      <td>youre moving out great whether home dorm campu...</td>\n",
       "      <td>0.0</td>\n",
       "      <td>11.0</td>\n",
       "      <td>[101] Leases and Roommates 101</td>\n",
       "      <td>0.0</td>\n",
       "      <td>0.0</td>\n",
       "      <td>0.0</td>\n",
       "      <td>0.0</td>\n",
       "      <td>0.0</td>\n",
       "      <td>0.0</td>\n",
       "      <td>...</td>\n",
       "      <td>0.0</td>\n",
       "      <td>0.0</td>\n",
       "      <td>0.0</td>\n",
       "      <td>0.0</td>\n",
       "      <td>0.0</td>\n",
       "      <td>0.0</td>\n",
       "      <td>0.0</td>\n",
       "      <td>0.0</td>\n",
       "      <td>0.0</td>\n",
       "      <td>0.0</td>\n",
       "    </tr>\n",
       "    <tr>\n",
       "      <th>3</th>\n",
       "      <td>hey moved first apartment awesome congratulati...</td>\n",
       "      <td>3.0</td>\n",
       "      <td>13.0</td>\n",
       "      <td>[101]Kitchen 101: What You Really, Really Need...</td>\n",
       "      <td>0.0</td>\n",
       "      <td>0.0</td>\n",
       "      <td>0.0</td>\n",
       "      <td>0.0</td>\n",
       "      <td>1.0</td>\n",
       "      <td>0.0</td>\n",
       "      <td>...</td>\n",
       "      <td>0.0</td>\n",
       "      <td>0.0</td>\n",
       "      <td>0.0</td>\n",
       "      <td>17.0</td>\n",
       "      <td>0.0</td>\n",
       "      <td>0.0</td>\n",
       "      <td>2.0</td>\n",
       "      <td>0.0</td>\n",
       "      <td>0.0</td>\n",
       "      <td>0.0</td>\n",
       "    </tr>\n",
       "    <tr>\n",
       "      <th>4</th>\n",
       "      <td>first part series post im going make renting f...</td>\n",
       "      <td>3.0</td>\n",
       "      <td>11.0</td>\n",
       "      <td>[101]What to look at before renting your first...</td>\n",
       "      <td>0.0</td>\n",
       "      <td>0.0</td>\n",
       "      <td>0.0</td>\n",
       "      <td>0.0</td>\n",
       "      <td>0.0</td>\n",
       "      <td>0.0</td>\n",
       "      <td>...</td>\n",
       "      <td>0.0</td>\n",
       "      <td>0.0</td>\n",
       "      <td>0.0</td>\n",
       "      <td>0.0</td>\n",
       "      <td>0.0</td>\n",
       "      <td>0.0</td>\n",
       "      <td>0.0</td>\n",
       "      <td>0.0</td>\n",
       "      <td>0.0</td>\n",
       "      <td>0.0</td>\n",
       "    </tr>\n",
       "  </tbody>\n",
       "</table>\n",
       "<p>5 rows × 3670 columns</p>\n",
       "</div>"
      ],
      "text/plain": [
       "                                            selftext  num_comments  score  \\\n",
       "0     weird adult wear high school championship ring           2.0    1.0   \n",
       "1                                                NaN           NaN    NaN   \n",
       "2  youre moving out great whether home dorm campu...           0.0   11.0   \n",
       "3  hey moved first apartment awesome congratulati...           3.0   13.0   \n",
       "4  first part series post im going make renting f...           3.0   11.0   \n",
       "\n",
       "                                               title  aaa  abatement  abby  \\\n",
       "0                            state championship ring  0.0        0.0   0.0   \n",
       "1                                                NaN  0.0        1.0   0.0   \n",
       "2                     [101] Leases and Roommates 101  0.0        0.0   0.0   \n",
       "3  [101]Kitchen 101: What You Really, Really Need...  0.0        0.0   0.0   \n",
       "4  [101]What to look at before renting your first...  0.0        0.0   0.0   \n",
       "\n",
       "   ability  able  about  ...  younger  youngins  your  youre  yourself  \\\n",
       "0      0.0   0.0    0.0  ...      0.0       0.0   0.0    0.0       0.0   \n",
       "1      0.0   0.0    0.0  ...      0.0       0.0   0.0    1.0       1.0   \n",
       "2      0.0   0.0    0.0  ...      0.0       0.0   0.0    0.0       0.0   \n",
       "3      0.0   1.0    0.0  ...      0.0       0.0   0.0   17.0       0.0   \n",
       "4      0.0   0.0    0.0  ...      0.0       0.0   0.0    0.0       0.0   \n",
       "\n",
       "   youtube  youve   yr  zero  zone  \n",
       "0      0.0    0.0  0.0   0.0   0.0  \n",
       "1      0.0    0.0  0.0   0.0   0.0  \n",
       "2      0.0    0.0  0.0   0.0   0.0  \n",
       "3      0.0    2.0  0.0   0.0   0.0  \n",
       "4      0.0    0.0  0.0   0.0   0.0  \n",
       "\n",
       "[5 rows x 3670 columns]"
      ]
     },
     "execution_count": 17,
     "metadata": {},
     "output_type": "execute_result"
    }
   ],
   "source": [
    "vec=CountVectorizer()\n",
    "counts=vec.fit_transform(df1['selftext'])\n",
    "counts=counts.toarray()\n",
    "count_df=pd.DataFrame(counts,columns=vec.get_feature_names())\n",
    "big_df=pd.concat((df1,count_df),axis=1)\n",
    "big_df.head()"
   ]
  },
  {
   "cell_type": "code",
   "execution_count": 18,
   "id": "4bacc36c",
   "metadata": {},
   "outputs": [
    {
     "name": "stdout",
     "output_type": "stream",
     "text": [
      "0        get\n",
      "1       like\n",
      "2       need\n",
      "3       know\n",
      "4       time\n",
      "       ...  \n",
      "95       two\n",
      "96    saving\n",
      "97     right\n",
      "98         u\n",
      "99       ask\n",
      "Name: words, Length: 100, dtype: object\n"
     ]
    }
   ],
   "source": [
    "import itertools\n",
    "import collections\n",
    "def count_words(text):\n",
    "    all_words = list(itertools.chain(*text.str.split()))\n",
    "    counts = collections.Counter(all_words)\n",
    "    counts_df = pd.DataFrame(counts.most_common(100),\n",
    "                            columns=['words', 'count'])\n",
    "\n",
    "    return counts_df\n",
    "print(count_words(df1['selftext'])['words'])\n"
   ]
  },
  {
   "cell_type": "code",
   "execution_count": 19,
   "id": "fb0026b3",
   "metadata": {},
   "outputs": [
    {
     "data": {
      "text/html": [
       "<div>\n",
       "<style scoped>\n",
       "    .dataframe tbody tr th:only-of-type {\n",
       "        vertical-align: middle;\n",
       "    }\n",
       "\n",
       "    .dataframe tbody tr th {\n",
       "        vertical-align: top;\n",
       "    }\n",
       "\n",
       "    .dataframe thead th {\n",
       "        text-align: right;\n",
       "    }\n",
       "</style>\n",
       "<table border=\"1\" class=\"dataframe\">\n",
       "  <thead>\n",
       "    <tr style=\"text-align: right;\">\n",
       "      <th></th>\n",
       "      <th>words</th>\n",
       "      <th>count</th>\n",
       "    </tr>\n",
       "  </thead>\n",
       "  <tbody>\n",
       "    <tr>\n",
       "      <th>0</th>\n",
       "      <td>need</td>\n",
       "      <td>147</td>\n",
       "    </tr>\n",
       "    <tr>\n",
       "      <th>1</th>\n",
       "      <td>time</td>\n",
       "      <td>125</td>\n",
       "    </tr>\n",
       "    <tr>\n",
       "      <th>2</th>\n",
       "      <td>car</td>\n",
       "      <td>121</td>\n",
       "    </tr>\n",
       "    <tr>\n",
       "      <th>3</th>\n",
       "      <td>want</td>\n",
       "      <td>118</td>\n",
       "    </tr>\n",
       "    <tr>\n",
       "      <th>4</th>\n",
       "      <td>job</td>\n",
       "      <td>100</td>\n",
       "    </tr>\n",
       "    <tr>\n",
       "      <th>5</th>\n",
       "      <td>make</td>\n",
       "      <td>99</td>\n",
       "    </tr>\n",
       "    <tr>\n",
       "      <th>6</th>\n",
       "      <td>money</td>\n",
       "      <td>94</td>\n",
       "    </tr>\n",
       "    <tr>\n",
       "      <th>7</th>\n",
       "      <td>going</td>\n",
       "      <td>90</td>\n",
       "    </tr>\n",
       "    <tr>\n",
       "      <th>8</th>\n",
       "      <td>year</td>\n",
       "      <td>86</td>\n",
       "    </tr>\n",
       "    <tr>\n",
       "      <th>9</th>\n",
       "      <td>pay</td>\n",
       "      <td>85</td>\n",
       "    </tr>\n",
       "    <tr>\n",
       "      <th>10</th>\n",
       "      <td>place</td>\n",
       "      <td>82</td>\n",
       "    </tr>\n",
       "    <tr>\n",
       "      <th>11</th>\n",
       "      <td>work</td>\n",
       "      <td>82</td>\n",
       "    </tr>\n",
       "    <tr>\n",
       "      <th>12</th>\n",
       "      <td>help</td>\n",
       "      <td>81</td>\n",
       "    </tr>\n",
       "    <tr>\n",
       "      <th>13</th>\n",
       "      <td>parent</td>\n",
       "      <td>76</td>\n",
       "    </tr>\n",
       "    <tr>\n",
       "      <th>14</th>\n",
       "      <td>month</td>\n",
       "      <td>72</td>\n",
       "    </tr>\n",
       "    <tr>\n",
       "      <th>15</th>\n",
       "      <td>life</td>\n",
       "      <td>67</td>\n",
       "    </tr>\n",
       "    <tr>\n",
       "      <th>16</th>\n",
       "      <td>first</td>\n",
       "      <td>66</td>\n",
       "    </tr>\n",
       "    <tr>\n",
       "      <th>17</th>\n",
       "      <td>rent</td>\n",
       "      <td>63</td>\n",
       "    </tr>\n",
       "    <tr>\n",
       "      <th>18</th>\n",
       "      <td>people</td>\n",
       "      <td>63</td>\n",
       "    </tr>\n",
       "    <tr>\n",
       "      <th>19</th>\n",
       "      <td>good</td>\n",
       "      <td>59</td>\n",
       "    </tr>\n",
       "    <tr>\n",
       "      <th>20</th>\n",
       "      <td>new</td>\n",
       "      <td>59</td>\n",
       "    </tr>\n",
       "    <tr>\n",
       "      <th>21</th>\n",
       "      <td>feel</td>\n",
       "      <td>59</td>\n",
       "    </tr>\n",
       "    <tr>\n",
       "      <th>22</th>\n",
       "      <td>something</td>\n",
       "      <td>58</td>\n",
       "    </tr>\n",
       "    <tr>\n",
       "      <th>23</th>\n",
       "      <td>lot</td>\n",
       "      <td>56</td>\n",
       "    </tr>\n",
       "    <tr>\n",
       "      <th>24</th>\n",
       "      <td>day</td>\n",
       "      <td>53</td>\n",
       "    </tr>\n",
       "    <tr>\n",
       "      <th>25</th>\n",
       "      <td>look</td>\n",
       "      <td>52</td>\n",
       "    </tr>\n",
       "    <tr>\n",
       "      <th>26</th>\n",
       "      <td>landlord</td>\n",
       "      <td>51</td>\n",
       "    </tr>\n",
       "    <tr>\n",
       "      <th>27</th>\n",
       "      <td>insurance</td>\n",
       "      <td>51</td>\n",
       "    </tr>\n",
       "    <tr>\n",
       "      <th>28</th>\n",
       "      <td>credit</td>\n",
       "      <td>51</td>\n",
       "    </tr>\n",
       "    <tr>\n",
       "      <th>29</th>\n",
       "      <td>never</td>\n",
       "      <td>50</td>\n",
       "    </tr>\n",
       "  </tbody>\n",
       "</table>\n",
       "</div>"
      ],
      "text/plain": [
       "        words  count\n",
       "0        need    147\n",
       "1        time    125\n",
       "2         car    121\n",
       "3        want    118\n",
       "4         job    100\n",
       "5        make     99\n",
       "6       money     94\n",
       "7       going     90\n",
       "8        year     86\n",
       "9         pay     85\n",
       "10      place     82\n",
       "11       work     82\n",
       "12       help     81\n",
       "13     parent     76\n",
       "14      month     72\n",
       "15       life     67\n",
       "16      first     66\n",
       "17       rent     63\n",
       "18     people     63\n",
       "19       good     59\n",
       "20        new     59\n",
       "21       feel     59\n",
       "22  something     58\n",
       "23        lot     56\n",
       "24        day     53\n",
       "25       look     52\n",
       "26   landlord     51\n",
       "27  insurance     51\n",
       "28     credit     51\n",
       "29      never     50"
      ]
     },
     "execution_count": 19,
     "metadata": {},
     "output_type": "execute_result"
    }
   ],
   "source": [
    "stop_words.update({'would','k','im','could','also',\n",
    "                   'amp','much','one','like','get',\n",
    "                   'since','etc','got','always',\n",
    "                   'know','thing','really','dont',\n",
    "                   'find','even','go',\n",
    "                  })\n",
    "df1['selftext']=df1['selftext'].apply(lambda x: remove_stopwords(x))\n",
    "count_df=count_words(df1['selftext'])\n",
    "count_df.head(30)"
   ]
  },
  {
   "cell_type": "code",
   "execution_count": 52,
   "id": "4616f36b",
   "metadata": {},
   "outputs": [
    {
     "data": {
      "image/png": "[encoded data removed]",
      "text/plain": [
       "<Figure size 432x288 with 1 Axes>"
      ]
     },
     "metadata": {
      "needs_background": "light"
     },
     "output_type": "display_data"
    }
   ],
   "source": [
    "from wordcloud import WordCloud\n",
    "import matplotlib.pyplot as plt\n",
    "\n",
    "# Create a list of word\n",
    "text=' '.join(count_df.words)\n",
    "\n",
    "# Create the wordcloud object\n",
    "wordcloud = WordCloud(width=1000, height=1000, margin=0,background_color='white').generate(text)\n",
    "\n",
    "# Display the generated image:\n",
    "plt.imshow(wordcloud, interpolation='bilinear')\n",
    "plt.axis(\"off\")\n",
    "plt.margins(x=0, y=0)\n",
    "plt.show()"
   ]
  },
  {
   "cell_type": "code",
   "execution_count": 53,
   "id": "09494ef3",
   "metadata": {},
   "outputs": [
    {
     "data": {
      "application/vnd.plotly.v1+json": {
       "config": {
        "plotlyServerURL": "https://plot.ly"
       },
       "data": [
        {
         "alignmentgroup": "True",
         "hovertemplate": "words=%{x}<br>count=%{y}<extra></extra>",
         "legendgroup": "",
         "marker": {
          "color": "#636efa"
         },
         "name": "",
         "offsetgroup": "",
         "orientation": "v",
         "showlegend": false,
         "textposition": "auto",
         "type": "bar",
         "x": [
          "need",
          "time",
          "car",
          "want",
          "job",
          "make",
          "money",
          "going",
          "year",
          "pay"
         ],
         "xaxis": "x",
         "y": [
          147,
          125,
          121,
          118,
          100,
          99,
          94,
          90,
          86,
          85
         ],
         "yaxis": "y"
        }
       ],
       "layout": {
        "barmode": "relative",
        "legend": {
         "tracegroupgap": 0
        },
        "template": {
         "data": {
          "bar": [
           {
            "error_x": {
             "color": "#2a3f5f"
            },
            "error_y": {
             "color": "#2a3f5f"
            },
            "marker": {
             "line": {
              "color": "#E5ECF6",
              "width": 0.5
             }
            },
            "type": "bar"
           }
          ],
          "barpolar": [
           {
            "marker": {
             "line": {
              "color": "#E5ECF6",
              "width": 0.5
             }
            },
            "type": "barpolar"
           }
          ],
          "carpet": [
           {
            "aaxis": {
             "endlinecolor": "#2a3f5f",
             "gridcolor": "white",
             "linecolor": "white",
             "minorgridcolor": "white",
             "startlinecolor": "#2a3f5f"
            },
            "baxis": {
             "endlinecolor": "#2a3f5f",
             "gridcolor": "white",
             "linecolor": "white",
             "minorgridcolor": "white",
             "startlinecolor": "#2a3f5f"
            },
            "type": "carpet"
           }
          ],
          "choropleth": [
           {
            "colorbar": {
             "outlinewidth": 0,
             "ticks": ""
            },
            "type": "choropleth"
           }
          ],
          "contour": [
           {
            "colorbar": {
             "outlinewidth": 0,
             "ticks": ""
            },
            "colorscale": [
             [
              0,
              "#0d0887"
             ],
             [
              0.1111111111111111,
              "#46039f"
             ],
             [
              0.2222222222222222,
              "#7201a8"
             ],
             [
              0.3333333333333333,
              "#9c179e"
             ],
             [
              0.4444444444444444,
              "#bd3786"
             ],
             [
              0.5555555555555556,
              "#d8576b"
             ],
             [
              0.6666666666666666,
              "#ed7953"
             ],
             [
              0.7777777777777778,
              "#fb9f3a"
             ],
             [
              0.8888888888888888,
              "#fdca26"
             ],
             [
              1,
              "#f0f921"
             ]
            ],
            "type": "contour"
           }
          ],
          "contourcarpet": [
           {
            "colorbar": {
             "outlinewidth": 0,
             "ticks": ""
            },
            "type": "contourcarpet"
           }
          ],
          "heatmap": [
           {
            "colorbar": {
             "outlinewidth": 0,
             "ticks": ""
            },
            "colorscale": [
             [
              0,
              "#0d0887"
             ],
             [
              0.1111111111111111,
              "#46039f"
             ],
             [
              0.2222222222222222,
              "#7201a8"
             ],
             [
              0.3333333333333333,
              "#9c179e"
             ],
             [
              0.4444444444444444,
              "#bd3786"
             ],
             [
              0.5555555555555556,
              "#d8576b"
             ],
             [
              0.6666666666666666,
              "#ed7953"
             ],
             [
              0.7777777777777778,
              "#fb9f3a"
             ],
             [
              0.8888888888888888,
              "#fdca26"
             ],
             [
              1,
              "#f0f921"
             ]
            ],
            "type": "heatmap"
           }
          ],
          "heatmapgl": [
           {
            "colorbar": {
             "outlinewidth": 0,
             "ticks": ""
            },
            "colorscale": [
             [
              0,
              "#0d0887"
             ],
             [
              0.1111111111111111,
              "#46039f"
             ],
             [
              0.2222222222222222,
              "#7201a8"
             ],
             [
              0.3333333333333333,
              "#9c179e"
             ],
             [
              0.4444444444444444,
              "#bd3786"
             ],
             [
              0.5555555555555556,
              "#d8576b"
             ],
             [
              0.6666666666666666,
              "#ed7953"
             ],
             [
              0.7777777777777778,
              "#fb9f3a"
             ],
             [
              0.8888888888888888,
              "#fdca26"
             ],
             [
              1,
              "#f0f921"
             ]
            ],
            "type": "heatmapgl"
           }
          ],
          "histogram": [
           {
            "marker": {
             "colorbar": {
              "outlinewidth": 0,
              "ticks": ""
             }
            },
            "type": "histogram"
           }
          ],
          "histogram2d": [
           {
            "colorbar": {
             "outlinewidth": 0,
             "ticks": ""
            },
            "colorscale": [
             [
              0,
              "#0d0887"
             ],
             [
              0.1111111111111111,
              "#46039f"
             ],
             [
              0.2222222222222222,
              "#7201a8"
             ],
             [
              0.3333333333333333,
              "#9c179e"
             ],
             [
              0.4444444444444444,
              "#bd3786"
             ],
             [
              0.5555555555555556,
              "#d8576b"
             ],
             [
              0.6666666666666666,
              "#ed7953"
             ],
             [
              0.7777777777777778,
              "#fb9f3a"
             ],
             [
              0.8888888888888888,
              "#fdca26"
             ],
             [
              1,
              "#f0f921"
             ]
            ],
            "type": "histogram2d"
           }
          ],
          "histogram2dcontour": [
           {
            "colorbar": {
             "outlinewidth": 0,
             "ticks": ""
            },
            "colorscale": [
             [
              0,
              "#0d0887"
             ],
             [
              0.1111111111111111,
              "#46039f"
             ],
             [
              0.2222222222222222,
              "#7201a8"
             ],
             [
              0.3333333333333333,
              "#9c179e"
             ],
             [
              0.4444444444444444,
              "#bd3786"
             ],
             [
              0.5555555555555556,
              "#d8576b"
             ],
             [
              0.6666666666666666,
              "#ed7953"
             ],
             [
              0.7777777777777778,
              "#fb9f3a"
             ],
             [
              0.8888888888888888,
              "#fdca26"
             ],
             [
              1,
              "#f0f921"
             ]
            ],
            "type": "histogram2dcontour"
           }
          ],
          "mesh3d": [
           {
            "colorbar": {
             "outlinewidth": 0,
             "ticks": ""
            },
            "type": "mesh3d"
           }
          ],
          "parcoords": [
           {
            "line": {
             "colorbar": {
              "outlinewidth": 0,
              "ticks": ""
             }
            },
            "type": "parcoords"
           }
          ],
          "pie": [
           {
            "automargin": true,
            "type": "pie"
           }
          ],
          "scatter": [
           {
            "marker": {
             "colorbar": {
              "outlinewidth": 0,
              "ticks": ""
             }
            },
            "type": "scatter"
           }
          ],
          "scatter3d": [
           {
            "line": {
             "colorbar": {
              "outlinewidth": 0,
              "ticks": ""
             }
            },
            "marker": {
             "colorbar": {
              "outlinewidth": 0,
              "ticks": ""
             }
            },
            "type": "scatter3d"
           }
          ],
          "scattercarpet": [
           {
            "marker": {
             "colorbar": {
              "outlinewidth": 0,
              "ticks": ""
             }
            },
            "type": "scattercarpet"
           }
          ],
          "scattergeo": [
           {
            "marker": {
             "colorbar": {
              "outlinewidth": 0,
              "ticks": ""
             }
            },
            "type": "scattergeo"
           }
          ],
          "scattergl": [
           {
            "marker": {
             "colorbar": {
              "outlinewidth": 0,
              "ticks": ""
             }
            },
            "type": "scattergl"
           }
          ],
          "scattermapbox": [
           {
            "marker": {
             "colorbar": {
              "outlinewidth": 0,
              "ticks": ""
             }
            },
            "type": "scattermapbox"
           }
          ],
          "scatterpolar": [
           {
            "marker": {
             "colorbar": {
              "outlinewidth": 0,
              "ticks": ""
             }
            },
            "type": "scatterpolar"
           }
          ],
          "scatterpolargl": [
           {
            "marker": {
             "colorbar": {
              "outlinewidth": 0,
              "ticks": ""
             }
            },
            "type": "scatterpolargl"
           }
          ],
          "scatterternary": [
           {
            "marker": {
             "colorbar": {
              "outlinewidth": 0,
              "ticks": ""
             }
            },
            "type": "scatterternary"
           }
          ],
          "surface": [
           {
            "colorbar": {
             "outlinewidth": 0,
             "ticks": ""
            },
            "colorscale": [
             [
              0,
              "#0d0887"
             ],
             [
              0.1111111111111111,
              "#46039f"
             ],
             [
              0.2222222222222222,
              "#7201a8"
             ],
             [
              0.3333333333333333,
              "#9c179e"
             ],
             [
              0.4444444444444444,
              "#bd3786"
             ],
             [
              0.5555555555555556,
              "#d8576b"
             ],
             [
              0.6666666666666666,
              "#ed7953"
             ],
             [
              0.7777777777777778,
              "#fb9f3a"
             ],
             [
              0.8888888888888888,
              "#fdca26"
             ],
             [
              1,
              "#f0f921"
             ]
            ],
            "type": "surface"
           }
          ],
          "table": [
           {
            "cells": {
             "fill": {
              "color": "#EBF0F8"
             },
             "line": {
              "color": "white"
             }
            },
            "header": {
             "fill": {
              "color": "#C8D4E3"
             },
             "line": {
              "color": "white"
             }
            },
            "type": "table"
           }
          ]
         },
         "layout": {
          "annotationdefaults": {
           "arrowcolor": "#2a3f5f",
           "arrowhead": 0,
           "arrowwidth": 1
          },
          "autotypenumbers": "strict",
          "coloraxis": {
           "colorbar": {
            "outlinewidth": 0,
            "ticks": ""
           }
          },
          "colorscale": {
           "diverging": [
            [
             0,
             "#8e0152"
            ],
            [
             0.1,
             "#c51b7d"
            ],
            [
             0.2,
             "#de77ae"
            ],
            [
             0.3,
             "#f1b6da"
            ],
            [
             0.4,
             "#fde0ef"
            ],
            [
             0.5,
             "#f7f7f7"
            ],
            [
             0.6,
             "#e6f5d0"
            ],
            [
             0.7,
             "#b8e186"
            ],
            [
             0.8,
             "#7fbc41"
            ],
            [
             0.9,
             "#4d9221"
            ],
            [
             1,
             "#276419"
            ]
           ],
           "sequential": [
            [
             0,
             "#0d0887"
            ],
            [
             0.1111111111111111,
             "#46039f"
            ],
            [
             0.2222222222222222,
             "#7201a8"
            ],
            [
             0.3333333333333333,
             "#9c179e"
            ],
            [
             0.4444444444444444,
             "#bd3786"
            ],
            [
             0.5555555555555556,
             "#d8576b"
            ],
            [
             0.6666666666666666,
             "#ed7953"
            ],
            [
             0.7777777777777778,
             "#fb9f3a"
            ],
            [
             0.8888888888888888,
             "#fdca26"
            ],
            [
             1,
             "#f0f921"
            ]
           ],
           "sequentialminus": [
            [
             0,
             "#0d0887"
            ],
            [
             0.1111111111111111,
             "#46039f"
            ],
            [
             0.2222222222222222,
             "#7201a8"
            ],
            [
             0.3333333333333333,
             "#9c179e"
            ],
            [
             0.4444444444444444,
             "#bd3786"
            ],
            [
             0.5555555555555556,
             "#d8576b"
            ],
            [
             0.6666666666666666,
             "#ed7953"
            ],
            [
             0.7777777777777778,
             "#fb9f3a"
            ],
            [
             0.8888888888888888,
             "#fdca26"
            ],
            [
             1,
             "#f0f921"
            ]
           ]
          },
          "colorway": [
           "#636efa",
           "#EF553B",
           "#00cc96",
           "#ab63fa",
           "#FFA15A",
           "#19d3f3",
           "#FF6692",
           "#B6E880",
           "#FF97FF",
           "#FECB52"
          ],
          "font": {
           "color": "#2a3f5f"
          },
          "geo": {
           "bgcolor": "white",
           "lakecolor": "white",
           "landcolor": "#E5ECF6",
           "showlakes": true,
           "showland": true,
           "subunitcolor": "white"
          },
          "hoverlabel": {
           "align": "left"
          },
          "hovermode": "closest",
          "mapbox": {
           "style": "light"
          },
          "paper_bgcolor": "white",
          "plot_bgcolor": "#E5ECF6",
          "polar": {
           "angularaxis": {
            "gridcolor": "white",
            "linecolor": "white",
            "ticks": ""
           },
           "bgcolor": "#E5ECF6",
           "radialaxis": {
            "gridcolor": "white",
            "linecolor": "white",
            "ticks": ""
           }
          },
          "scene": {
           "xaxis": {
            "backgroundcolor": "#E5ECF6",
            "gridcolor": "white",
            "gridwidth": 2,
            "linecolor": "white",
            "showbackground": true,
            "ticks": "",
            "zerolinecolor": "white"
           },
           "yaxis": {
            "backgroundcolor": "#E5ECF6",
            "gridcolor": "white",
            "gridwidth": 2,
            "linecolor": "white",
            "showbackground": true,
            "ticks": "",
            "zerolinecolor": "white"
           },
           "zaxis": {
            "backgroundcolor": "#E5ECF6",
            "gridcolor": "white",
            "gridwidth": 2,
            "linecolor": "white",
            "showbackground": true,
            "ticks": "",
            "zerolinecolor": "white"
           }
          },
          "shapedefaults": {
           "line": {
            "color": "#2a3f5f"
           }
          },
          "ternary": {
           "aaxis": {
            "gridcolor": "white",
            "linecolor": "white",
            "ticks": ""
           },
           "baxis": {
            "gridcolor": "white",
            "linecolor": "white",
            "ticks": ""
           },
           "bgcolor": "#E5ECF6",
           "caxis": {
            "gridcolor": "white",
            "linecolor": "white",
            "ticks": ""
           }
          },
          "title": {
           "x": 0.05
          },
          "xaxis": {
           "automargin": true,
           "gridcolor": "white",
           "linecolor": "white",
           "ticks": "",
           "title": {
            "standoff": 15
           },
           "zerolinecolor": "white",
           "zerolinewidth": 2
          },
          "yaxis": {
           "automargin": true,
           "gridcolor": "white",
           "linecolor": "white",
           "ticks": "",
           "title": {
            "standoff": 15
           },
           "zerolinecolor": "white",
           "zerolinewidth": 2
          }
         }
        },
        "title": {
         "text": "Top 10 words in adulting101"
        },
        "xaxis": {
         "anchor": "y",
         "domain": [
          0,
          1
         ],
         "title": {
          "text": "words"
         }
        },
        "yaxis": {
         "anchor": "x",
         "domain": [
          0,
          1
         ],
         "title": {
          "text": "count"
         }
        }
       }
      },
      "text/html": [
       "<div>                            <div id=\"356f2230-900d-42ee-a323-70153256c04d\" class=\"plotly-graph-div\" style=\"height:525px; width:100%;\"></div>            <script type=\"text/javascript\">                require([\"plotly\"], function(Plotly) {                    window.PLOTLYENV=window.PLOTLYENV || {};                                    if (document.getElementById(\"356f2230-900d-42ee-a323-70153256c04d\")) {                    Plotly.newPlot(                        \"356f2230-900d-42ee-a323-70153256c04d\",                        [{\"alignmentgroup\": \"True\", \"hovertemplate\": \"words=%{x}<br>count=%{y}<extra></extra>\", \"legendgroup\": \"\", \"marker\": {\"color\": \"#636efa\"}, \"name\": \"\", \"offsetgroup\": \"\", \"orientation\": \"v\", \"showlegend\": false, \"textposition\": \"auto\", \"type\": \"bar\", \"x\": [\"need\", \"time\", \"car\", \"want\", \"job\", \"make\", \"money\", \"going\", \"year\", \"pay\"], \"xaxis\": \"x\", \"y\": [147, 125, 121, 118, 100, 99, 94, 90, 86, 85], \"yaxis\": \"y\"}],                        {\"barmode\": \"relative\", \"legend\": {\"tracegroupgap\": 0}, \"template\": {\"data\": {\"bar\": [{\"error_x\": {\"color\": \"#2a3f5f\"}, \"error_y\": {\"color\": \"#2a3f5f\"}, \"marker\": {\"line\": {\"color\": \"#E5ECF6\", \"width\": 0.5}}, \"type\": \"bar\"}], \"barpolar\": [{\"marker\": {\"line\": {\"color\": \"#E5ECF6\", \"width\": 0.5}}, \"type\": \"barpolar\"}], \"carpet\": [{\"aaxis\": {\"endlinecolor\": \"#2a3f5f\", \"gridcolor\": \"white\", \"linecolor\": \"white\", \"minorgridcolor\": \"white\", \"startlinecolor\": \"#2a3f5f\"}, \"baxis\": {\"endlinecolor\": \"#2a3f5f\", \"gridcolor\": \"white\", \"linecolor\": \"white\", \"minorgridcolor\": \"white\", \"startlinecolor\": \"#2a3f5f\"}, \"type\": \"carpet\"}], \"choropleth\": [{\"colorbar\": {\"outlinewidth\": 0, \"ticks\": \"\"}, \"type\": \"choropleth\"}], \"contour\": [{\"colorbar\": {\"outlinewidth\": 0, \"ticks\": \"\"}, \"colorscale\": [[0.0, \"#0d0887\"], [0.1111111111111111, \"#46039f\"], [0.2222222222222222, \"#7201a8\"], [0.3333333333333333, \"#9c179e\"], [0.4444444444444444, \"#bd3786\"], [0.5555555555555556, \"#d8576b\"], [0.6666666666666666, \"#ed7953\"], [0.7777777777777778, \"#fb9f3a\"], [0.8888888888888888, \"#fdca26\"], [1.0, \"#f0f921\"]], \"type\": \"contour\"}], \"contourcarpet\": [{\"colorbar\": {\"outlinewidth\": 0, \"ticks\": \"\"}, \"type\": \"contourcarpet\"}], \"heatmap\": [{\"colorbar\": {\"outlinewidth\": 0, \"ticks\": \"\"}, \"colorscale\": [[0.0, \"#0d0887\"], [0.1111111111111111, \"#46039f\"], [0.2222222222222222, \"#7201a8\"], [0.3333333333333333, \"#9c179e\"], [0.4444444444444444, \"#bd3786\"], [0.5555555555555556, \"#d8576b\"], [0.6666666666666666, \"#ed7953\"], [0.7777777777777778, \"#fb9f3a\"], [0.8888888888888888, \"#fdca26\"], [1.0, \"#f0f921\"]], \"type\": \"heatmap\"}], \"heatmapgl\": [{\"colorbar\": {\"outlinewidth\": 0, \"ticks\": \"\"}, \"colorscale\": [[0.0, \"#0d0887\"], [0.1111111111111111, \"#46039f\"], [0.2222222222222222, \"#7201a8\"], [0.3333333333333333, \"#9c179e\"], [0.4444444444444444, \"#bd3786\"], [0.5555555555555556, \"#d8576b\"], [0.6666666666666666, \"#ed7953\"], [0.7777777777777778, \"#fb9f3a\"], [0.8888888888888888, \"#fdca26\"], [1.0, \"#f0f921\"]], \"type\": \"heatmapgl\"}], \"histogram\": [{\"marker\": {\"colorbar\": {\"outlinewidth\": 0, \"ticks\": \"\"}}, \"type\": \"histogram\"}], \"histogram2d\": [{\"colorbar\": {\"outlinewidth\": 0, \"ticks\": \"\"}, \"colorscale\": [[0.0, \"#0d0887\"], [0.1111111111111111, \"#46039f\"], [0.2222222222222222, \"#7201a8\"], [0.3333333333333333, \"#9c179e\"], [0.4444444444444444, \"#bd3786\"], [0.5555555555555556, \"#d8576b\"], [0.6666666666666666, \"#ed7953\"], [0.7777777777777778, \"#fb9f3a\"], [0.8888888888888888, \"#fdca26\"], [1.0, \"#f0f921\"]], \"type\": \"histogram2d\"}], \"histogram2dcontour\": [{\"colorbar\": {\"outlinewidth\": 0, \"ticks\": \"\"}, \"colorscale\": [[0.0, \"#0d0887\"], [0.1111111111111111, \"#46039f\"], [0.2222222222222222, \"#7201a8\"], [0.3333333333333333, \"#9c179e\"], [0.4444444444444444, \"#bd3786\"], [0.5555555555555556, \"#d8576b\"], [0.6666666666666666, \"#ed7953\"], [0.7777777777777778, \"#fb9f3a\"], [0.8888888888888888, \"#fdca26\"], [1.0, \"#f0f921\"]], \"type\": \"histogram2dcontour\"}], \"mesh3d\": [{\"colorbar\": {\"outlinewidth\": 0, \"ticks\": \"\"}, \"type\": \"mesh3d\"}], \"parcoords\": [{\"line\": {\"colorbar\": {\"outlinewidth\": 0, \"ticks\": \"\"}}, \"type\": \"parcoords\"}], \"pie\": [{\"automargin\": true, \"type\": \"pie\"}], \"scatter\": [{\"marker\": {\"colorbar\": {\"outlinewidth\": 0, \"ticks\": \"\"}}, \"type\": \"scatter\"}], \"scatter3d\": [{\"line\": {\"colorbar\": {\"outlinewidth\": 0, \"ticks\": \"\"}}, \"marker\": {\"colorbar\": {\"outlinewidth\": 0, \"ticks\": \"\"}}, \"type\": \"scatter3d\"}], \"scattercarpet\": [{\"marker\": {\"colorbar\": {\"outlinewidth\": 0, \"ticks\": \"\"}}, \"type\": \"scattercarpet\"}], \"scattergeo\": [{\"marker\": {\"colorbar\": {\"outlinewidth\": 0, \"ticks\": \"\"}}, \"type\": \"scattergeo\"}], \"scattergl\": [{\"marker\": {\"colorbar\": {\"outlinewidth\": 0, \"ticks\": \"\"}}, \"type\": \"scattergl\"}], \"scattermapbox\": [{\"marker\": {\"colorbar\": {\"outlinewidth\": 0, \"ticks\": \"\"}}, \"type\": \"scattermapbox\"}], \"scatterpolar\": [{\"marker\": {\"colorbar\": {\"outlinewidth\": 0, \"ticks\": \"\"}}, \"type\": \"scatterpolar\"}], \"scatterpolargl\": [{\"marker\": {\"colorbar\": {\"outlinewidth\": 0, \"ticks\": \"\"}}, \"type\": \"scatterpolargl\"}], \"scatterternary\": [{\"marker\": {\"colorbar\": {\"outlinewidth\": 0, \"ticks\": \"\"}}, \"type\": \"scatterternary\"}], \"surface\": [{\"colorbar\": {\"outlinewidth\": 0, \"ticks\": \"\"}, \"colorscale\": [[0.0, \"#0d0887\"], [0.1111111111111111, \"#46039f\"], [0.2222222222222222, \"#7201a8\"], [0.3333333333333333, \"#9c179e\"], [0.4444444444444444, \"#bd3786\"], [0.5555555555555556, \"#d8576b\"], [0.6666666666666666, \"#ed7953\"], [0.7777777777777778, \"#fb9f3a\"], [0.8888888888888888, \"#fdca26\"], [1.0, \"#f0f921\"]], \"type\": \"surface\"}], \"table\": [{\"cells\": {\"fill\": {\"color\": \"#EBF0F8\"}, \"line\": {\"color\": \"white\"}}, \"header\": {\"fill\": {\"color\": \"#C8D4E3\"}, \"line\": {\"color\": \"white\"}}, \"type\": \"table\"}]}, \"layout\": {\"annotationdefaults\": {\"arrowcolor\": \"#2a3f5f\", \"arrowhead\": 0, \"arrowwidth\": 1}, \"autotypenumbers\": \"strict\", \"coloraxis\": {\"colorbar\": {\"outlinewidth\": 0, \"ticks\": \"\"}}, \"colorscale\": {\"diverging\": [[0, \"#8e0152\"], [0.1, \"#c51b7d\"], [0.2, \"#de77ae\"], [0.3, \"#f1b6da\"], [0.4, \"#fde0ef\"], [0.5, \"#f7f7f7\"], [0.6, \"#e6f5d0\"], [0.7, \"#b8e186\"], [0.8, \"#7fbc41\"], [0.9, \"#4d9221\"], [1, \"#276419\"]], \"sequential\": [[0.0, \"#0d0887\"], [0.1111111111111111, \"#46039f\"], [0.2222222222222222, \"#7201a8\"], [0.3333333333333333, \"#9c179e\"], [0.4444444444444444, \"#bd3786\"], [0.5555555555555556, \"#d8576b\"], [0.6666666666666666, \"#ed7953\"], [0.7777777777777778, \"#fb9f3a\"], [0.8888888888888888, \"#fdca26\"], [1.0, \"#f0f921\"]], \"sequentialminus\": [[0.0, \"#0d0887\"], [0.1111111111111111, \"#46039f\"], [0.2222222222222222, \"#7201a8\"], [0.3333333333333333, \"#9c179e\"], [0.4444444444444444, \"#bd3786\"], [0.5555555555555556, \"#d8576b\"], [0.6666666666666666, \"#ed7953\"], [0.7777777777777778, \"#fb9f3a\"], [0.8888888888888888, \"#fdca26\"], [1.0, \"#f0f921\"]]}, \"colorway\": [\"#636efa\", \"#EF553B\", \"#00cc96\", \"#ab63fa\", \"#FFA15A\", \"#19d3f3\", \"#FF6692\", \"#B6E880\", \"#FF97FF\", \"#FECB52\"], \"font\": {\"color\": \"#2a3f5f\"}, \"geo\": {\"bgcolor\": \"white\", \"lakecolor\": \"white\", \"landcolor\": \"#E5ECF6\", \"showlakes\": true, \"showland\": true, \"subunitcolor\": \"white\"}, \"hoverlabel\": {\"align\": \"left\"}, \"hovermode\": \"closest\", \"mapbox\": {\"style\": \"light\"}, \"paper_bgcolor\": \"white\", \"plot_bgcolor\": \"#E5ECF6\", \"polar\": {\"angularaxis\": {\"gridcolor\": \"white\", \"linecolor\": \"white\", \"ticks\": \"\"}, \"bgcolor\": \"#E5ECF6\", \"radialaxis\": {\"gridcolor\": \"white\", \"linecolor\": \"white\", \"ticks\": \"\"}}, \"scene\": {\"xaxis\": {\"backgroundcolor\": \"#E5ECF6\", \"gridcolor\": \"white\", \"gridwidth\": 2, \"linecolor\": \"white\", \"showbackground\": true, \"ticks\": \"\", \"zerolinecolor\": \"white\"}, \"yaxis\": {\"backgroundcolor\": \"#E5ECF6\", \"gridcolor\": \"white\", \"gridwidth\": 2, \"linecolor\": \"white\", \"showbackground\": true, \"ticks\": \"\", \"zerolinecolor\": \"white\"}, \"zaxis\": {\"backgroundcolor\": \"#E5ECF6\", \"gridcolor\": \"white\", \"gridwidth\": 2, \"linecolor\": \"white\", \"showbackground\": true, \"ticks\": \"\", \"zerolinecolor\": \"white\"}}, \"shapedefaults\": {\"line\": {\"color\": \"#2a3f5f\"}}, \"ternary\": {\"aaxis\": {\"gridcolor\": \"white\", \"linecolor\": \"white\", \"ticks\": \"\"}, \"baxis\": {\"gridcolor\": \"white\", \"linecolor\": \"white\", \"ticks\": \"\"}, \"bgcolor\": \"#E5ECF6\", \"caxis\": {\"gridcolor\": \"white\", \"linecolor\": \"white\", \"ticks\": \"\"}}, \"title\": {\"x\": 0.05}, \"xaxis\": {\"automargin\": true, \"gridcolor\": \"white\", \"linecolor\": \"white\", \"ticks\": \"\", \"title\": {\"standoff\": 15}, \"zerolinecolor\": \"white\", \"zerolinewidth\": 2}, \"yaxis\": {\"automargin\": true, \"gridcolor\": \"white\", \"linecolor\": \"white\", \"ticks\": \"\", \"title\": {\"standoff\": 15}, \"zerolinecolor\": \"white\", \"zerolinewidth\": 2}}}, \"title\": {\"text\": \"Top 10 words in adulting101\"}, \"xaxis\": {\"anchor\": \"y\", \"domain\": [0.0, 1.0], \"title\": {\"text\": \"words\"}}, \"yaxis\": {\"anchor\": \"x\", \"domain\": [0.0, 1.0], \"title\": {\"text\": \"count\"}}},                        {\"responsive\": true}                    ).then(function(){\n",
       "                            \n",
       "var gd = document.getElementById('356f2230-900d-42ee-a323-70153256c04d');\n",
       "var x = new MutationObserver(function (mutations, observer) {{\n",
       "        var display = window.getComputedStyle(gd).display;\n",
       "        if (!display || display === 'none') {{\n",
       "            console.log([gd, 'removed!']);\n",
       "            Plotly.purge(gd);\n",
       "            observer.disconnect();\n",
       "        }}\n",
       "}});\n",
       "\n",
       "// Listen for the removal of the full notebook cells\n",
       "var notebookContainer = gd.closest('#notebook-container');\n",
       "if (notebookContainer) {{\n",
       "    x.observe(notebookContainer, {childList: true});\n",
       "}}\n",
       "\n",
       "// Listen for the clearing of the current output cell\n",
       "var outputEl = gd.closest('.output');\n",
       "if (outputEl) {{\n",
       "    x.observe(outputEl, {childList: true});\n",
       "}}\n",
       "\n",
       "                        })                };                });            </script>        </div>"
      ]
     },
     "metadata": {},
     "output_type": "display_data"
    }
   ],
   "source": [
    "import plotly.express as px\n",
    "fig1 = px.bar(count_df.head(10), x='words', y='count', title=\"Top 10 words in adulting101\")\n",
    "fig1.show()"
   ]
  },
  {
   "cell_type": "markdown",
   "id": "9dbcc2a6",
   "metadata": {},
   "source": [
    "From one-gram analysis of adulting 101 subreddit, we can see a focus on getting jobs and buying cars since most of the keywords are related to these two topics. However, the most frequently appeared word \"time\" don't have a clear topic attribution."
   ]
  },
  {
   "cell_type": "code",
   "execution_count": 65,
   "id": "52f4e29d",
   "metadata": {},
   "outputs": [
    {
     "data": {
      "text/html": [
       "<div>\n",
       "<style scoped>\n",
       "    .dataframe tbody tr th:only-of-type {\n",
       "        vertical-align: middle;\n",
       "    }\n",
       "\n",
       "    .dataframe tbody tr th {\n",
       "        vertical-align: top;\n",
       "    }\n",
       "\n",
       "    .dataframe thead th {\n",
       "        text-align: right;\n",
       "    }\n",
       "</style>\n",
       "<table border=\"1\" class=\"dataframe\">\n",
       "  <thead>\n",
       "    <tr style=\"text-align: right;\">\n",
       "      <th></th>\n",
       "      <th>Unnamed: 0</th>\n",
       "      <th>author</th>\n",
       "      <th>created_utc</th>\n",
       "      <th>domain</th>\n",
       "      <th>full_link</th>\n",
       "      <th>num_comments</th>\n",
       "      <th>over_18</th>\n",
       "      <th>score</th>\n",
       "      <th>selftext</th>\n",
       "      <th>subreddit</th>\n",
       "      <th>title</th>\n",
       "      <th>num_crossposts</th>\n",
       "    </tr>\n",
       "  </thead>\n",
       "  <tbody>\n",
       "    <tr>\n",
       "      <th>216</th>\n",
       "      <td>216</td>\n",
       "      <td>whoeverthehell</td>\n",
       "      <td>1582487221</td>\n",
       "      <td>self.Adulting101</td>\n",
       "      <td>https://www.reddit.com/r/Adulting101/comments/...</td>\n",
       "      <td>29</td>\n",
       "      <td>False</td>\n",
       "      <td>3</td>\n",
       "      <td>Just the title, I'm almost 18 and moving out s...</td>\n",
       "      <td>Adulting101</td>\n",
       "      <td>What did you wish you knew before moving into ...</td>\n",
       "      <td>0.0</td>\n",
       "    </tr>\n",
       "    <tr>\n",
       "      <th>276</th>\n",
       "      <td>276</td>\n",
       "      <td>goodoldted</td>\n",
       "      <td>1597924117</td>\n",
       "      <td>self.Adulting101</td>\n",
       "      <td>https://www.reddit.com/r/Adulting101/comments/...</td>\n",
       "      <td>16</td>\n",
       "      <td>False</td>\n",
       "      <td>1</td>\n",
       "      <td>they told me to come here from r/legaladvice. ...</td>\n",
       "      <td>Adulting101</td>\n",
       "      <td>roommate can't be evicted (CA, USA)</td>\n",
       "      <td>0.0</td>\n",
       "    </tr>\n",
       "    <tr>\n",
       "      <th>199</th>\n",
       "      <td>199</td>\n",
       "      <td>measely_opossum</td>\n",
       "      <td>1586118899</td>\n",
       "      <td>self.Adulting101</td>\n",
       "      <td>https://www.reddit.com/r/Adulting101/comments/...</td>\n",
       "      <td>16</td>\n",
       "      <td>False</td>\n",
       "      <td>1</td>\n",
       "      <td>So I’m (f) gonna be moving into my first apart...</td>\n",
       "      <td>Adulting101</td>\n",
       "      <td>A few questions</td>\n",
       "      <td>0.0</td>\n",
       "    </tr>\n",
       "    <tr>\n",
       "      <th>174</th>\n",
       "      <td>174</td>\n",
       "      <td>rural_dentist</td>\n",
       "      <td>1594569885</td>\n",
       "      <td>self.Adulting101</td>\n",
       "      <td>https://www.reddit.com/r/Adulting101/comments/...</td>\n",
       "      <td>15</td>\n",
       "      <td>False</td>\n",
       "      <td>1</td>\n",
       "      <td>I feel like a piece of shit for feeling upset ...</td>\n",
       "      <td>Adulting101</td>\n",
       "      <td>SO’s dad ended up in ER last night. SO said he...</td>\n",
       "      <td>0.0</td>\n",
       "    </tr>\n",
       "    <tr>\n",
       "      <th>171</th>\n",
       "      <td>171</td>\n",
       "      <td>Madam_Morbid_</td>\n",
       "      <td>1595542112</td>\n",
       "      <td>self.Adulting101</td>\n",
       "      <td>https://www.reddit.com/r/Adulting101/comments/...</td>\n",
       "      <td>14</td>\n",
       "      <td>False</td>\n",
       "      <td>5</td>\n",
       "      <td>(Hi, this is my first reddit post, so I'm stil...</td>\n",
       "      <td>Adulting101</td>\n",
       "      <td>Do I NEED To Have A Credit Card?</td>\n",
       "      <td>0.0</td>\n",
       "    </tr>\n",
       "    <tr>\n",
       "      <th>194</th>\n",
       "      <td>194</td>\n",
       "      <td>LividCurrent</td>\n",
       "      <td>1588512101</td>\n",
       "      <td>self.Adulting101</td>\n",
       "      <td>https://www.reddit.com/r/Adulting101/comments/...</td>\n",
       "      <td>12</td>\n",
       "      <td>False</td>\n",
       "      <td>1</td>\n",
       "      <td>(again, I really hope this is a good subreddit...</td>\n",
       "      <td>Adulting101</td>\n",
       "      <td>Question about social security card (sorry I k...</td>\n",
       "      <td>0.0</td>\n",
       "    </tr>\n",
       "    <tr>\n",
       "      <th>72</th>\n",
       "      <td>72</td>\n",
       "      <td>expatinpa</td>\n",
       "      <td>1533694168</td>\n",
       "      <td>self.Adulting101</td>\n",
       "      <td>https://www.reddit.com/r/Adulting101/comments/...</td>\n",
       "      <td>10</td>\n",
       "      <td>False</td>\n",
       "      <td>11</td>\n",
       "      <td>A really sharp knife. Yes I know, so boring. B...</td>\n",
       "      <td>Adulting101</td>\n",
       "      <td>What you really absolutely need for a basic ki...</td>\n",
       "      <td>0.0</td>\n",
       "    </tr>\n",
       "    <tr>\n",
       "      <th>204</th>\n",
       "      <td>204</td>\n",
       "      <td>plawwwy</td>\n",
       "      <td>1585672516</td>\n",
       "      <td>self.Adulting101</td>\n",
       "      <td>https://www.reddit.com/r/Adulting101/comments/...</td>\n",
       "      <td>10</td>\n",
       "      <td>False</td>\n",
       "      <td>1</td>\n",
       "      <td>How much does it cost you to live alone in an ...</td>\n",
       "      <td>Adulting101</td>\n",
       "      <td>Moving out (of course after all this tragic st...</td>\n",
       "      <td>0.0</td>\n",
       "    </tr>\n",
       "    <tr>\n",
       "      <th>277</th>\n",
       "      <td>277</td>\n",
       "      <td>blueskies209</td>\n",
       "      <td>1597876926</td>\n",
       "      <td>self.Adulting101</td>\n",
       "      <td>https://www.reddit.com/r/Adulting101/comments/...</td>\n",
       "      <td>9</td>\n",
       "      <td>False</td>\n",
       "      <td>1</td>\n",
       "      <td>I’ve moved down south about 5 years ago with m...</td>\n",
       "      <td>Adulting101</td>\n",
       "      <td>Family wants me to move back home</td>\n",
       "      <td>0.0</td>\n",
       "    </tr>\n",
       "    <tr>\n",
       "      <th>84</th>\n",
       "      <td>84</td>\n",
       "      <td>Napalmenator</td>\n",
       "      <td>1533577478</td>\n",
       "      <td>self.Adulting101</td>\n",
       "      <td>https://www.reddit.com/r/Adulting101/comments/...</td>\n",
       "      <td>9</td>\n",
       "      <td>False</td>\n",
       "      <td>19</td>\n",
       "      <td>This is a place to learn all of the simple thi...</td>\n",
       "      <td>Adulting101</td>\n",
       "      <td>Welcome to Adulting 101</td>\n",
       "      <td>0.0</td>\n",
       "    </tr>\n",
       "    <tr>\n",
       "      <th>79</th>\n",
       "      <td>79</td>\n",
       "      <td>phneri</td>\n",
       "      <td>1533651731</td>\n",
       "      <td>self.Adulting101</td>\n",
       "      <td>https://www.reddit.com/r/Adulting101/comments/...</td>\n",
       "      <td>9</td>\n",
       "      <td>False</td>\n",
       "      <td>29</td>\n",
       "      <td>As title says. I've done recruiting for tech j...</td>\n",
       "      <td>Adulting101</td>\n",
       "      <td>You don't know how to write a cover letter [101]</td>\n",
       "      <td>0.0</td>\n",
       "    </tr>\n",
       "    <tr>\n",
       "      <th>237</th>\n",
       "      <td>237</td>\n",
       "      <td>imsorryoksorry</td>\n",
       "      <td>1608737936</td>\n",
       "      <td>self.Adulting101</td>\n",
       "      <td>https://www.reddit.com/r/Adulting101/comments/...</td>\n",
       "      <td>8</td>\n",
       "      <td>False</td>\n",
       "      <td>1</td>\n",
       "      <td>Fyi USA. I might be missing something so feel ...</td>\n",
       "      <td>Adulting101</td>\n",
       "      <td>Putting a plan together to move out of toxic p...</td>\n",
       "      <td>0.0</td>\n",
       "    </tr>\n",
       "    <tr>\n",
       "      <th>100</th>\n",
       "      <td>100</td>\n",
       "      <td>bergersandfries</td>\n",
       "      <td>1558485365</td>\n",
       "      <td>self.Adulting101</td>\n",
       "      <td>https://www.reddit.com/r/Adulting101/comments/...</td>\n",
       "      <td>8</td>\n",
       "      <td>False</td>\n",
       "      <td>11</td>\n",
       "      <td>So my grandmother has a pretty expensive watch...</td>\n",
       "      <td>Adulting101</td>\n",
       "      <td>What to do with my late grandmothers watch</td>\n",
       "      <td>0.0</td>\n",
       "    </tr>\n",
       "    <tr>\n",
       "      <th>268</th>\n",
       "      <td>268</td>\n",
       "      <td>sulvikelmakaunn</td>\n",
       "      <td>1600280845</td>\n",
       "      <td>self.Adulting101</td>\n",
       "      <td>https://www.reddit.com/r/Adulting101/comments/...</td>\n",
       "      <td>7</td>\n",
       "      <td>False</td>\n",
       "      <td>1</td>\n",
       "      <td>Hi everyone,\\n\\nI have never purchased a dishw...</td>\n",
       "      <td>Adulting101</td>\n",
       "      <td>Dishwasher</td>\n",
       "      <td>0.0</td>\n",
       "    </tr>\n",
       "    <tr>\n",
       "      <th>181</th>\n",
       "      <td>181</td>\n",
       "      <td>SuggasMomma</td>\n",
       "      <td>1592606319</td>\n",
       "      <td>self.Adulting101</td>\n",
       "      <td>https://www.reddit.com/r/Adulting101/comments/...</td>\n",
       "      <td>7</td>\n",
       "      <td>False</td>\n",
       "      <td>1</td>\n",
       "      <td>Hey! \\n\\nMy husbands wisdom teeth are all comi...</td>\n",
       "      <td>Adulting101</td>\n",
       "      <td>How do I know what is good dental insurance? W...</td>\n",
       "      <td>0.0</td>\n",
       "    </tr>\n",
       "    <tr>\n",
       "      <th>37</th>\n",
       "      <td>37</td>\n",
       "      <td>secret_flower97</td>\n",
       "      <td>1545216748</td>\n",
       "      <td>self.Adulting101</td>\n",
       "      <td>https://www.reddit.com/r/Adulting101/comments/...</td>\n",
       "      <td>7</td>\n",
       "      <td>False</td>\n",
       "      <td>1</td>\n",
       "      <td>Since I broke up with my boyfriend recently I'...</td>\n",
       "      <td>Adulting101</td>\n",
       "      <td>Moving/New Year/Fresh Start</td>\n",
       "      <td>0.0</td>\n",
       "    </tr>\n",
       "    <tr>\n",
       "      <th>42</th>\n",
       "      <td>42</td>\n",
       "      <td>the_cado</td>\n",
       "      <td>1542950717</td>\n",
       "      <td>self.Adulting101</td>\n",
       "      <td>https://www.reddit.com/r/Adulting101/comments/...</td>\n",
       "      <td>7</td>\n",
       "      <td>False</td>\n",
       "      <td>1</td>\n",
       "      <td>Skim if you want but this includes info about ...</td>\n",
       "      <td>Adulting101</td>\n",
       "      <td>I need help when I'm eighteen (\"running away\")</td>\n",
       "      <td>0.0</td>\n",
       "    </tr>\n",
       "    <tr>\n",
       "      <th>168</th>\n",
       "      <td>168</td>\n",
       "      <td>sailormoon_universe</td>\n",
       "      <td>1595814273</td>\n",
       "      <td>self.Adulting101</td>\n",
       "      <td>https://www.reddit.com/r/Adulting101/comments/...</td>\n",
       "      <td>6</td>\n",
       "      <td>False</td>\n",
       "      <td>1</td>\n",
       "      <td>What is something you don't know how to do tha...</td>\n",
       "      <td>Adulting101</td>\n",
       "      <td>Podcast Questions</td>\n",
       "      <td>0.0</td>\n",
       "    </tr>\n",
       "    <tr>\n",
       "      <th>200</th>\n",
       "      <td>200</td>\n",
       "      <td>_Emlyn</td>\n",
       "      <td>1585785668</td>\n",
       "      <td>self.Adulting101</td>\n",
       "      <td>https://www.reddit.com/r/Adulting101/comments/...</td>\n",
       "      <td>6</td>\n",
       "      <td>False</td>\n",
       "      <td>1</td>\n",
       "      <td>So I (F19) have just been told by my mother th...</td>\n",
       "      <td>Adulting101</td>\n",
       "      <td>Just got yelled at for forgetting that the tag...</td>\n",
       "      <td>0.0</td>\n",
       "    </tr>\n",
       "    <tr>\n",
       "      <th>272</th>\n",
       "      <td>272</td>\n",
       "      <td>fizzy_girl</td>\n",
       "      <td>1599568376</td>\n",
       "      <td>self.Adulting101</td>\n",
       "      <td>https://www.reddit.com/r/Adulting101/comments/...</td>\n",
       "      <td>5</td>\n",
       "      <td>False</td>\n",
       "      <td>1</td>\n",
       "      <td>I have to be up for work in about six hours, b...</td>\n",
       "      <td>Adulting101</td>\n",
       "      <td>I (25F) and my partner (26M) are saving up to ...</td>\n",
       "      <td>0.0</td>\n",
       "    </tr>\n",
       "  </tbody>\n",
       "</table>\n",
       "</div>"
      ],
      "text/plain": [
       "     Unnamed: 0               author  created_utc            domain  \\\n",
       "216         216       whoeverthehell   1582487221  self.Adulting101   \n",
       "276         276           goodoldted   1597924117  self.Adulting101   \n",
       "199         199      measely_opossum   1586118899  self.Adulting101   \n",
       "174         174        rural_dentist   1594569885  self.Adulting101   \n",
       "171         171        Madam_Morbid_   1595542112  self.Adulting101   \n",
       "194         194         LividCurrent   1588512101  self.Adulting101   \n",
       "72           72            expatinpa   1533694168  self.Adulting101   \n",
       "204         204              plawwwy   1585672516  self.Adulting101   \n",
       "277         277         blueskies209   1597876926  self.Adulting101   \n",
       "84           84         Napalmenator   1533577478  self.Adulting101   \n",
       "79           79               phneri   1533651731  self.Adulting101   \n",
       "237         237       imsorryoksorry   1608737936  self.Adulting101   \n",
       "100         100      bergersandfries   1558485365  self.Adulting101   \n",
       "268         268      sulvikelmakaunn   1600280845  self.Adulting101   \n",
       "181         181          SuggasMomma   1592606319  self.Adulting101   \n",
       "37           37      secret_flower97   1545216748  self.Adulting101   \n",
       "42           42             the_cado   1542950717  self.Adulting101   \n",
       "168         168  sailormoon_universe   1595814273  self.Adulting101   \n",
       "200         200               _Emlyn   1585785668  self.Adulting101   \n",
       "272         272           fizzy_girl   1599568376  self.Adulting101   \n",
       "\n",
       "                                             full_link  num_comments  over_18  \\\n",
       "216  https://www.reddit.com/r/Adulting101/comments/...            29    False   \n",
       "276  https://www.reddit.com/r/Adulting101/comments/...            16    False   \n",
       "199  https://www.reddit.com/r/Adulting101/comments/...            16    False   \n",
       "174  https://www.reddit.com/r/Adulting101/comments/...            15    False   \n",
       "171  https://www.reddit.com/r/Adulting101/comments/...            14    False   \n",
       "194  https://www.reddit.com/r/Adulting101/comments/...            12    False   \n",
       "72   https://www.reddit.com/r/Adulting101/comments/...            10    False   \n",
       "204  https://www.reddit.com/r/Adulting101/comments/...            10    False   \n",
       "277  https://www.reddit.com/r/Adulting101/comments/...             9    False   \n",
       "84   https://www.reddit.com/r/Adulting101/comments/...             9    False   \n",
       "79   https://www.reddit.com/r/Adulting101/comments/...             9    False   \n",
       "237  https://www.reddit.com/r/Adulting101/comments/...             8    False   \n",
       "100  https://www.reddit.com/r/Adulting101/comments/...             8    False   \n",
       "268  https://www.reddit.com/r/Adulting101/comments/...             7    False   \n",
       "181  https://www.reddit.com/r/Adulting101/comments/...             7    False   \n",
       "37   https://www.reddit.com/r/Adulting101/comments/...             7    False   \n",
       "42   https://www.reddit.com/r/Adulting101/comments/...             7    False   \n",
       "168  https://www.reddit.com/r/Adulting101/comments/...             6    False   \n",
       "200  https://www.reddit.com/r/Adulting101/comments/...             6    False   \n",
       "272  https://www.reddit.com/r/Adulting101/comments/...             5    False   \n",
       "\n",
       "     score                                           selftext    subreddit  \\\n",
       "216      3  Just the title, I'm almost 18 and moving out s...  Adulting101   \n",
       "276      1  they told me to come here from r/legaladvice. ...  Adulting101   \n",
       "199      1  So I’m (f) gonna be moving into my first apart...  Adulting101   \n",
       "174      1  I feel like a piece of shit for feeling upset ...  Adulting101   \n",
       "171      5  (Hi, this is my first reddit post, so I'm stil...  Adulting101   \n",
       "194      1  (again, I really hope this is a good subreddit...  Adulting101   \n",
       "72      11  A really sharp knife. Yes I know, so boring. B...  Adulting101   \n",
       "204      1  How much does it cost you to live alone in an ...  Adulting101   \n",
       "277      1  I’ve moved down south about 5 years ago with m...  Adulting101   \n",
       "84      19  This is a place to learn all of the simple thi...  Adulting101   \n",
       "79      29  As title says. I've done recruiting for tech j...  Adulting101   \n",
       "237      1  Fyi USA. I might be missing something so feel ...  Adulting101   \n",
       "100     11  So my grandmother has a pretty expensive watch...  Adulting101   \n",
       "268      1  Hi everyone,\\n\\nI have never purchased a dishw...  Adulting101   \n",
       "181      1  Hey! \\n\\nMy husbands wisdom teeth are all comi...  Adulting101   \n",
       "37       1  Since I broke up with my boyfriend recently I'...  Adulting101   \n",
       "42       1  Skim if you want but this includes info about ...  Adulting101   \n",
       "168      1  What is something you don't know how to do tha...  Adulting101   \n",
       "200      1  So I (F19) have just been told by my mother th...  Adulting101   \n",
       "272      1  I have to be up for work in about six hours, b...  Adulting101   \n",
       "\n",
       "                                                 title  num_crossposts  \n",
       "216  What did you wish you knew before moving into ...             0.0  \n",
       "276                roommate can't be evicted (CA, USA)             0.0  \n",
       "199                                    A few questions             0.0  \n",
       "174  SO’s dad ended up in ER last night. SO said he...             0.0  \n",
       "171                   Do I NEED To Have A Credit Card?             0.0  \n",
       "194  Question about social security card (sorry I k...             0.0  \n",
       "72   What you really absolutely need for a basic ki...             0.0  \n",
       "204  Moving out (of course after all this tragic st...             0.0  \n",
       "277                  Family wants me to move back home             0.0  \n",
       "84                             Welcome to Adulting 101             0.0  \n",
       "79    You don't know how to write a cover letter [101]             0.0  \n",
       "237  Putting a plan together to move out of toxic p...             0.0  \n",
       "100         What to do with my late grandmothers watch             0.0  \n",
       "268                                         Dishwasher             0.0  \n",
       "181  How do I know what is good dental insurance? W...             0.0  \n",
       "37                         Moving/New Year/Fresh Start             0.0  \n",
       "42      I need help when I'm eighteen (\"running away\")             0.0  \n",
       "168                                  Podcast Questions             0.0  \n",
       "200  Just got yelled at for forgetting that the tag...             0.0  \n",
       "272  I (25F) and my partner (26M) are saving up to ...             0.0  "
      ]
     },
     "execution_count": 65,
     "metadata": {},
     "output_type": "execute_result"
    }
   ],
   "source": [
    "index3=df1[df1['selftext'].str.contains(\"need\")].index\n",
    "df.iloc[index3].sort_values(by='num_comments',ascending=False).head(20)"
   ]
  },
  {
   "cell_type": "code",
   "execution_count": 67,
   "id": "6195696a",
   "metadata": {},
   "outputs": [
    {
     "data": {
      "text/plain": [
       "('How much does it cost you to live alone in an apartment, buy the essentials needed (appliances etc) buy your own groceries in a month?? Thank you!',\n",
       " 'Moving out (of course after all this tragic stuff)')"
      ]
     },
     "execution_count": 67,
     "metadata": {},
     "output_type": "execute_result"
    }
   ],
   "source": [
    "(df.iloc[204]['selftext'],df.iloc[204]['title'])"
   ]
  },
  {
   "cell_type": "code",
   "execution_count": 68,
   "id": "ec977a24",
   "metadata": {},
   "outputs": [
    {
     "data": {
      "text/html": [
       "<div>\n",
       "<style scoped>\n",
       "    .dataframe tbody tr th:only-of-type {\n",
       "        vertical-align: middle;\n",
       "    }\n",
       "\n",
       "    .dataframe tbody tr th {\n",
       "        vertical-align: top;\n",
       "    }\n",
       "\n",
       "    .dataframe thead th {\n",
       "        text-align: right;\n",
       "    }\n",
       "</style>\n",
       "<table border=\"1\" class=\"dataframe\">\n",
       "  <thead>\n",
       "    <tr style=\"text-align: right;\">\n",
       "      <th></th>\n",
       "      <th>Unnamed: 0</th>\n",
       "      <th>author</th>\n",
       "      <th>created_utc</th>\n",
       "      <th>domain</th>\n",
       "      <th>full_link</th>\n",
       "      <th>num_comments</th>\n",
       "      <th>over_18</th>\n",
       "      <th>score</th>\n",
       "      <th>selftext</th>\n",
       "      <th>subreddit</th>\n",
       "      <th>title</th>\n",
       "      <th>num_crossposts</th>\n",
       "    </tr>\n",
       "  </thead>\n",
       "  <tbody>\n",
       "    <tr>\n",
       "      <th>219</th>\n",
       "      <td>219</td>\n",
       "      <td>dukeshellington</td>\n",
       "      <td>1581596416</td>\n",
       "      <td>self.Adulting101</td>\n",
       "      <td>https://www.reddit.com/r/Adulting101/comments/...</td>\n",
       "      <td>26</td>\n",
       "      <td>False</td>\n",
       "      <td>1</td>\n",
       "      <td>Is my toilet going to explode? I didn’t think ...</td>\n",
       "      <td>Adulting101</td>\n",
       "      <td>I just???flushed a toilet paper roll???down th...</td>\n",
       "      <td>0.0</td>\n",
       "    </tr>\n",
       "    <tr>\n",
       "      <th>59</th>\n",
       "      <td>59</td>\n",
       "      <td>Pema_marie</td>\n",
       "      <td>1536352614</td>\n",
       "      <td>self.Adulting101</td>\n",
       "      <td>https://www.reddit.com/r/Adulting101/comments/...</td>\n",
       "      <td>18</td>\n",
       "      <td>False</td>\n",
       "      <td>11</td>\n",
       "      <td>I'm an adult, but I usually don't fill my gas ...</td>\n",
       "      <td>Adulting101</td>\n",
       "      <td>I just accidentally put diesel in my car?!</td>\n",
       "      <td>0.0</td>\n",
       "    </tr>\n",
       "    <tr>\n",
       "      <th>276</th>\n",
       "      <td>276</td>\n",
       "      <td>goodoldted</td>\n",
       "      <td>1597924117</td>\n",
       "      <td>self.Adulting101</td>\n",
       "      <td>https://www.reddit.com/r/Adulting101/comments/...</td>\n",
       "      <td>16</td>\n",
       "      <td>False</td>\n",
       "      <td>1</td>\n",
       "      <td>they told me to come here from r/legaladvice. ...</td>\n",
       "      <td>Adulting101</td>\n",
       "      <td>roommate can't be evicted (CA, USA)</td>\n",
       "      <td>0.0</td>\n",
       "    </tr>\n",
       "    <tr>\n",
       "      <th>171</th>\n",
       "      <td>171</td>\n",
       "      <td>Madam_Morbid_</td>\n",
       "      <td>1595542112</td>\n",
       "      <td>self.Adulting101</td>\n",
       "      <td>https://www.reddit.com/r/Adulting101/comments/...</td>\n",
       "      <td>14</td>\n",
       "      <td>False</td>\n",
       "      <td>5</td>\n",
       "      <td>(Hi, this is my first reddit post, so I'm stil...</td>\n",
       "      <td>Adulting101</td>\n",
       "      <td>Do I NEED To Have A Credit Card?</td>\n",
       "      <td>0.0</td>\n",
       "    </tr>\n",
       "    <tr>\n",
       "      <th>68</th>\n",
       "      <td>68</td>\n",
       "      <td>Napalmenator</td>\n",
       "      <td>1533921502</td>\n",
       "      <td>self.Adulting101</td>\n",
       "      <td>https://www.reddit.com/r/Adulting101/comments/...</td>\n",
       "      <td>13</td>\n",
       "      <td>False</td>\n",
       "      <td>18</td>\n",
       "      <td>The slow cooker is the king of easy. Literally...</td>\n",
       "      <td>Adulting101</td>\n",
       "      <td>Easy Recipes - Slow Cooker</td>\n",
       "      <td>0.0</td>\n",
       "    </tr>\n",
       "    <tr>\n",
       "      <th>94</th>\n",
       "      <td>94</td>\n",
       "      <td>BlueiraBlue128</td>\n",
       "      <td>1561264703</td>\n",
       "      <td>self.Adulting101</td>\n",
       "      <td>https://www.reddit.com/r/Adulting101/comments/...</td>\n",
       "      <td>12</td>\n",
       "      <td>False</td>\n",
       "      <td>11</td>\n",
       "      <td>Hi, all! I am a few months shy of turning 20, ...</td>\n",
       "      <td>Adulting101</td>\n",
       "      <td>In need of Adulting avice</td>\n",
       "      <td>0.0</td>\n",
       "    </tr>\n",
       "    <tr>\n",
       "      <th>89</th>\n",
       "      <td>89</td>\n",
       "      <td>Juniper102</td>\n",
       "      <td>1563032494</td>\n",
       "      <td>self.Adulting101</td>\n",
       "      <td>https://www.reddit.com/r/Adulting101/comments/...</td>\n",
       "      <td>12</td>\n",
       "      <td>False</td>\n",
       "      <td>8</td>\n",
       "      <td>I've never bought a car before so I have no id...</td>\n",
       "      <td>Adulting101</td>\n",
       "      <td>How should I go about buying a car?</td>\n",
       "      <td>0.0</td>\n",
       "    </tr>\n",
       "    <tr>\n",
       "      <th>194</th>\n",
       "      <td>194</td>\n",
       "      <td>LividCurrent</td>\n",
       "      <td>1588512101</td>\n",
       "      <td>self.Adulting101</td>\n",
       "      <td>https://www.reddit.com/r/Adulting101/comments/...</td>\n",
       "      <td>12</td>\n",
       "      <td>False</td>\n",
       "      <td>1</td>\n",
       "      <td>(again, I really hope this is a good subreddit...</td>\n",
       "      <td>Adulting101</td>\n",
       "      <td>Question about social security card (sorry I k...</td>\n",
       "      <td>0.0</td>\n",
       "    </tr>\n",
       "    <tr>\n",
       "      <th>173</th>\n",
       "      <td>173</td>\n",
       "      <td>Ferda13-3</td>\n",
       "      <td>1594920446</td>\n",
       "      <td>self.Adulting101</td>\n",
       "      <td>https://www.reddit.com/r/Adulting101/comments/...</td>\n",
       "      <td>10</td>\n",
       "      <td>False</td>\n",
       "      <td>1</td>\n",
       "      <td>So I’m buying a car for the first time, I want...</td>\n",
       "      <td>Adulting101</td>\n",
       "      <td>Car Buying Question</td>\n",
       "      <td>0.0</td>\n",
       "    </tr>\n",
       "    <tr>\n",
       "      <th>72</th>\n",
       "      <td>72</td>\n",
       "      <td>expatinpa</td>\n",
       "      <td>1533694168</td>\n",
       "      <td>self.Adulting101</td>\n",
       "      <td>https://www.reddit.com/r/Adulting101/comments/...</td>\n",
       "      <td>10</td>\n",
       "      <td>False</td>\n",
       "      <td>11</td>\n",
       "      <td>A really sharp knife. Yes I know, so boring. B...</td>\n",
       "      <td>Adulting101</td>\n",
       "      <td>What you really absolutely need for a basic ki...</td>\n",
       "      <td>0.0</td>\n",
       "    </tr>\n",
       "    <tr>\n",
       "      <th>91</th>\n",
       "      <td>91</td>\n",
       "      <td>StrictlyWhovian</td>\n",
       "      <td>1562279759</td>\n",
       "      <td>self.Adulting101</td>\n",
       "      <td>https://www.reddit.com/r/Adulting101/comments/...</td>\n",
       "      <td>9</td>\n",
       "      <td>False</td>\n",
       "      <td>2</td>\n",
       "      <td>I am 17 and only JUST learning to drive. I get...</td>\n",
       "      <td>Adulting101</td>\n",
       "      <td>Yo, any tips when it comes to learning to drive?</td>\n",
       "      <td>0.0</td>\n",
       "    </tr>\n",
       "    <tr>\n",
       "      <th>84</th>\n",
       "      <td>84</td>\n",
       "      <td>Napalmenator</td>\n",
       "      <td>1533577478</td>\n",
       "      <td>self.Adulting101</td>\n",
       "      <td>https://www.reddit.com/r/Adulting101/comments/...</td>\n",
       "      <td>9</td>\n",
       "      <td>False</td>\n",
       "      <td>19</td>\n",
       "      <td>This is a place to learn all of the simple thi...</td>\n",
       "      <td>Adulting101</td>\n",
       "      <td>Welcome to Adulting 101</td>\n",
       "      <td>0.0</td>\n",
       "    </tr>\n",
       "    <tr>\n",
       "      <th>95</th>\n",
       "      <td>95</td>\n",
       "      <td>Teemeowz</td>\n",
       "      <td>1560849211</td>\n",
       "      <td>self.Adulting101</td>\n",
       "      <td>https://www.reddit.com/r/Adulting101/comments/...</td>\n",
       "      <td>9</td>\n",
       "      <td>False</td>\n",
       "      <td>15</td>\n",
       "      <td>I am 27 years old and I am officially on my ow...</td>\n",
       "      <td>Adulting101</td>\n",
       "      <td>Living alone for the first time ever 😅</td>\n",
       "      <td>0.0</td>\n",
       "    </tr>\n",
       "    <tr>\n",
       "      <th>167</th>\n",
       "      <td>167</td>\n",
       "      <td>pastelghostiie</td>\n",
       "      <td>1596120087</td>\n",
       "      <td>self.Adulting101</td>\n",
       "      <td>https://www.reddit.com/r/Adulting101/comments/...</td>\n",
       "      <td>9</td>\n",
       "      <td>False</td>\n",
       "      <td>1</td>\n",
       "      <td>This is my first post here, thank you guys for...</td>\n",
       "      <td>Adulting101</td>\n",
       "      <td>What are some things I should get to prepare f...</td>\n",
       "      <td>0.0</td>\n",
       "    </tr>\n",
       "    <tr>\n",
       "      <th>196</th>\n",
       "      <td>196</td>\n",
       "      <td>LividCurrent</td>\n",
       "      <td>1588287093</td>\n",
       "      <td>self.Adulting101</td>\n",
       "      <td>https://www.reddit.com/r/Adulting101/comments/...</td>\n",
       "      <td>8</td>\n",
       "      <td>False</td>\n",
       "      <td>1</td>\n",
       "      <td>Hi, I'm still pretty new to reddit and so I'm ...</td>\n",
       "      <td>Adulting101</td>\n",
       "      <td>Question about taxes while I'm still filed as ...</td>\n",
       "      <td>0.0</td>\n",
       "    </tr>\n",
       "    <tr>\n",
       "      <th>237</th>\n",
       "      <td>237</td>\n",
       "      <td>imsorryoksorry</td>\n",
       "      <td>1608737936</td>\n",
       "      <td>self.Adulting101</td>\n",
       "      <td>https://www.reddit.com/r/Adulting101/comments/...</td>\n",
       "      <td>8</td>\n",
       "      <td>False</td>\n",
       "      <td>1</td>\n",
       "      <td>Fyi USA. I might be missing something so feel ...</td>\n",
       "      <td>Adulting101</td>\n",
       "      <td>Putting a plan together to move out of toxic p...</td>\n",
       "      <td>0.0</td>\n",
       "    </tr>\n",
       "    <tr>\n",
       "      <th>50</th>\n",
       "      <td>50</td>\n",
       "      <td>mamaterrig</td>\n",
       "      <td>1540517449</td>\n",
       "      <td>self.Adulting101</td>\n",
       "      <td>https://www.reddit.com/r/Adulting101/comments/...</td>\n",
       "      <td>8</td>\n",
       "      <td>False</td>\n",
       "      <td>1</td>\n",
       "      <td>Hi!  So, my daughter (18yo) is living in a nic...</td>\n",
       "      <td>Adulting101</td>\n",
       "      <td>Adulting Early and Ill-perpared</td>\n",
       "      <td>0.0</td>\n",
       "    </tr>\n",
       "    <tr>\n",
       "      <th>286</th>\n",
       "      <td>286</td>\n",
       "      <td>Torbjorn_</td>\n",
       "      <td>1596547430</td>\n",
       "      <td>self.Adulting101</td>\n",
       "      <td>https://www.reddit.com/r/Adulting101/comments/...</td>\n",
       "      <td>7</td>\n",
       "      <td>False</td>\n",
       "      <td>1</td>\n",
       "      <td>I'm about to finish school and I still don't k...</td>\n",
       "      <td>Adulting101</td>\n",
       "      <td>What should I do after school?</td>\n",
       "      <td>0.0</td>\n",
       "    </tr>\n",
       "    <tr>\n",
       "      <th>143</th>\n",
       "      <td>143</td>\n",
       "      <td>mackins94</td>\n",
       "      <td>1574454834</td>\n",
       "      <td>self.Adulting101</td>\n",
       "      <td>https://www.reddit.com/r/Adulting101/comments/...</td>\n",
       "      <td>7</td>\n",
       "      <td>False</td>\n",
       "      <td>1</td>\n",
       "      <td>Between our christmas pay, and our  new year p...</td>\n",
       "      <td>Adulting101</td>\n",
       "      <td>How to survive 7 weeks without pay.</td>\n",
       "      <td>0.0</td>\n",
       "    </tr>\n",
       "    <tr>\n",
       "      <th>42</th>\n",
       "      <td>42</td>\n",
       "      <td>the_cado</td>\n",
       "      <td>1542950717</td>\n",
       "      <td>self.Adulting101</td>\n",
       "      <td>https://www.reddit.com/r/Adulting101/comments/...</td>\n",
       "      <td>7</td>\n",
       "      <td>False</td>\n",
       "      <td>1</td>\n",
       "      <td>Skim if you want but this includes info about ...</td>\n",
       "      <td>Adulting101</td>\n",
       "      <td>I need help when I'm eighteen (\"running away\")</td>\n",
       "      <td>0.0</td>\n",
       "    </tr>\n",
       "  </tbody>\n",
       "</table>\n",
       "</div>"
      ],
      "text/plain": [
       "     Unnamed: 0           author  created_utc            domain  \\\n",
       "219         219  dukeshellington   1581596416  self.Adulting101   \n",
       "59           59       Pema_marie   1536352614  self.Adulting101   \n",
       "276         276       goodoldted   1597924117  self.Adulting101   \n",
       "171         171    Madam_Morbid_   1595542112  self.Adulting101   \n",
       "68           68     Napalmenator   1533921502  self.Adulting101   \n",
       "94           94   BlueiraBlue128   1561264703  self.Adulting101   \n",
       "89           89       Juniper102   1563032494  self.Adulting101   \n",
       "194         194     LividCurrent   1588512101  self.Adulting101   \n",
       "173         173        Ferda13-3   1594920446  self.Adulting101   \n",
       "72           72        expatinpa   1533694168  self.Adulting101   \n",
       "91           91  StrictlyWhovian   1562279759  self.Adulting101   \n",
       "84           84     Napalmenator   1533577478  self.Adulting101   \n",
       "95           95         Teemeowz   1560849211  self.Adulting101   \n",
       "167         167   pastelghostiie   1596120087  self.Adulting101   \n",
       "196         196     LividCurrent   1588287093  self.Adulting101   \n",
       "237         237   imsorryoksorry   1608737936  self.Adulting101   \n",
       "50           50       mamaterrig   1540517449  self.Adulting101   \n",
       "286         286        Torbjorn_   1596547430  self.Adulting101   \n",
       "143         143        mackins94   1574454834  self.Adulting101   \n",
       "42           42         the_cado   1542950717  self.Adulting101   \n",
       "\n",
       "                                             full_link  num_comments  over_18  \\\n",
       "219  https://www.reddit.com/r/Adulting101/comments/...            26    False   \n",
       "59   https://www.reddit.com/r/Adulting101/comments/...            18    False   \n",
       "276  https://www.reddit.com/r/Adulting101/comments/...            16    False   \n",
       "171  https://www.reddit.com/r/Adulting101/comments/...            14    False   \n",
       "68   https://www.reddit.com/r/Adulting101/comments/...            13    False   \n",
       "94   https://www.reddit.com/r/Adulting101/comments/...            12    False   \n",
       "89   https://www.reddit.com/r/Adulting101/comments/...            12    False   \n",
       "194  https://www.reddit.com/r/Adulting101/comments/...            12    False   \n",
       "173  https://www.reddit.com/r/Adulting101/comments/...            10    False   \n",
       "72   https://www.reddit.com/r/Adulting101/comments/...            10    False   \n",
       "91   https://www.reddit.com/r/Adulting101/comments/...             9    False   \n",
       "84   https://www.reddit.com/r/Adulting101/comments/...             9    False   \n",
       "95   https://www.reddit.com/r/Adulting101/comments/...             9    False   \n",
       "167  https://www.reddit.com/r/Adulting101/comments/...             9    False   \n",
       "196  https://www.reddit.com/r/Adulting101/comments/...             8    False   \n",
       "237  https://www.reddit.com/r/Adulting101/comments/...             8    False   \n",
       "50   https://www.reddit.com/r/Adulting101/comments/...             8    False   \n",
       "286  https://www.reddit.com/r/Adulting101/comments/...             7    False   \n",
       "143  https://www.reddit.com/r/Adulting101/comments/...             7    False   \n",
       "42   https://www.reddit.com/r/Adulting101/comments/...             7    False   \n",
       "\n",
       "     score                                           selftext    subreddit  \\\n",
       "219      1  Is my toilet going to explode? I didn’t think ...  Adulting101   \n",
       "59      11  I'm an adult, but I usually don't fill my gas ...  Adulting101   \n",
       "276      1  they told me to come here from r/legaladvice. ...  Adulting101   \n",
       "171      5  (Hi, this is my first reddit post, so I'm stil...  Adulting101   \n",
       "68      18  The slow cooker is the king of easy. Literally...  Adulting101   \n",
       "94      11  Hi, all! I am a few months shy of turning 20, ...  Adulting101   \n",
       "89       8  I've never bought a car before so I have no id...  Adulting101   \n",
       "194      1  (again, I really hope this is a good subreddit...  Adulting101   \n",
       "173      1  So I’m buying a car for the first time, I want...  Adulting101   \n",
       "72      11  A really sharp knife. Yes I know, so boring. B...  Adulting101   \n",
       "91       2  I am 17 and only JUST learning to drive. I get...  Adulting101   \n",
       "84      19  This is a place to learn all of the simple thi...  Adulting101   \n",
       "95      15  I am 27 years old and I am officially on my ow...  Adulting101   \n",
       "167      1  This is my first post here, thank you guys for...  Adulting101   \n",
       "196      1  Hi, I'm still pretty new to reddit and so I'm ...  Adulting101   \n",
       "237      1  Fyi USA. I might be missing something so feel ...  Adulting101   \n",
       "50       1  Hi!  So, my daughter (18yo) is living in a nic...  Adulting101   \n",
       "286      1  I'm about to finish school and I still don't k...  Adulting101   \n",
       "143      1  Between our christmas pay, and our  new year p...  Adulting101   \n",
       "42       1  Skim if you want but this includes info about ...  Adulting101   \n",
       "\n",
       "                                                 title  num_crossposts  \n",
       "219  I just???flushed a toilet paper roll???down th...             0.0  \n",
       "59          I just accidentally put diesel in my car?!             0.0  \n",
       "276                roommate can't be evicted (CA, USA)             0.0  \n",
       "171                   Do I NEED To Have A Credit Card?             0.0  \n",
       "68                          Easy Recipes - Slow Cooker             0.0  \n",
       "94                           In need of Adulting avice             0.0  \n",
       "89                 How should I go about buying a car?             0.0  \n",
       "194  Question about social security card (sorry I k...             0.0  \n",
       "173                                Car Buying Question             0.0  \n",
       "72   What you really absolutely need for a basic ki...             0.0  \n",
       "91    Yo, any tips when it comes to learning to drive?             0.0  \n",
       "84                             Welcome to Adulting 101             0.0  \n",
       "95              Living alone for the first time ever 😅             0.0  \n",
       "167  What are some things I should get to prepare f...             0.0  \n",
       "196  Question about taxes while I'm still filed as ...             0.0  \n",
       "237  Putting a plan together to move out of toxic p...             0.0  \n",
       "50                     Adulting Early and Ill-perpared             0.0  \n",
       "286                     What should I do after school?             0.0  \n",
       "143                How to survive 7 weeks without pay.             0.0  \n",
       "42      I need help when I'm eighteen (\"running away\")             0.0  "
      ]
     },
     "execution_count": 68,
     "metadata": {},
     "output_type": "execute_result"
    }
   ],
   "source": [
    "index3=df1[df1['selftext'].str.contains(\"car\")].index\n",
    "df.iloc[index3].sort_values(by='num_comments',ascending=False).head(20)"
   ]
  },
  {
   "cell_type": "code",
   "execution_count": 75,
   "id": "538f7d6f",
   "metadata": {},
   "outputs": [
    {
     "data": {
      "text/plain": [
       "(\"I've never bought a car before so I have no idea what my best options should be. Does Carfax actually work? What should I avoid? How does car insurance work? I only have about $1000 right now so I can't buy a brand new one or anything, but I'm not sure what qualifies a used car as bad/waste of time or money.\",\n",
       " 'How should I go about buying a car?')"
      ]
     },
     "execution_count": 75,
     "metadata": {},
     "output_type": "execute_result"
    }
   ],
   "source": [
    "(df.iloc[89]['selftext'],df.iloc[89]['title'])"
   ]
  },
  {
   "cell_type": "code",
   "execution_count": null,
   "id": "58f4d457",
   "metadata": {},
   "outputs": [],
   "source": []
  }
 ],
 "metadata": {
  "kernelspec": {
   "display_name": "Python 3",
   "language": "python",
   "name": "python3"
  },
  "language_info": {
   "codemirror_mode": {
    "name": "ipython",
    "version": 3
   },
   "file_extension": ".py",
   "mimetype": "text/x-python",
   "name": "python",
   "nbconvert_exporter": "python",
   "pygments_lexer": "ipython3",
   "version": "3.7.4"
  }
 },
 "nbformat": 4,
 "nbformat_minor": 5
}
